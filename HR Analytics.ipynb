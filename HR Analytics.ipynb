{
 "cells": [
  {
   "cell_type": "markdown",
   "id": "431bfa80",
   "metadata": {},
   "source": [
    "[HR Analytics:](https://datahack.analyticsvidhya.com/contest/wns-analytics-hackathon-2018-1/#ProblemStatement) Identify the employees most likely to get promoted."
   ]
  },
  {
   "cell_type": "markdown",
   "id": "7291bf81",
   "metadata": {},
   "source": [
    "# Setup"
   ]
  },
  {
   "cell_type": "code",
   "execution_count": 1,
   "id": "a67ef929",
   "metadata": {},
   "outputs": [],
   "source": [
    "# Python >= 3.5 is required\n",
    "import sys\n",
    "assert sys.version_info >= (3, 5)\n",
    "\n",
    "# Scikit-Learn >= 0.20 is required\n",
    "import sklearn\n",
    "assert sklearn.__version__ >= \"0.20\"\n",
    "\n",
    "# Common imports\n",
    "import numpy as np\n",
    "import os\n",
    "import pandas as pd\n",
    "\n",
    "# To plot pretty figures\n",
    "%matplotlib inline\n",
    "import matplotlib as mpl\n",
    "import matplotlib.pyplot as plt\n",
    "mpl.rc('axes', labelsize=14)\n",
    "mpl.rc('xtick', labelsize=12)\n",
    "mpl.rc('ytick', labelsize=12)\n",
    "\n",
    "# Where to save the figures\n",
    "PROJECT_ROOT_DIR = \".\"\n",
    "PROJECT_ID = \"hr_analytics\"\n",
    "IMAGES_PATH = os.path.join(PROJECT_ROOT_DIR, \"images\", PROJECT_ID)\n",
    "os.makedirs(IMAGES_PATH, exist_ok=True)\n",
    "\n",
    "def save_fig(fig_id, tight_layout=True, fig_extension=\"png\", resolution=300):\n",
    "    path = os.path.join(IMAGES_PATH, fig_id + \".\" + fig_extension)\n",
    "    print(\"Saving figure\", fig_id)\n",
    "    if tight_layout:\n",
    "        plt.tight_layout()\n",
    "    plt.savefig(path, format=fig_extension, dpi=resolution)"
   ]
  },
  {
   "cell_type": "markdown",
   "id": "51cae3b3",
   "metadata": {},
   "source": [
    "# Get the data"
   ]
  },
  {
   "cell_type": "markdown",
   "id": "b1481bec",
   "metadata": {},
   "source": [
    "## Download the data"
   ]
  },
  {
   "cell_type": "code",
   "execution_count": 102,
   "id": "e655f8a0-31bb-4a05-8bfb-8d339d9bbb66",
   "metadata": {},
   "outputs": [],
   "source": [
    "DATASETS_PATH = os.path.join(\"datasets\", \"hr\")\n",
    "\n",
    "def create_dir(file_path):\n",
    "    if not os.path.isdir(file_path):\n",
    "        os.makedirs(file_path)"
   ]
  },
  {
   "cell_type": "code",
   "execution_count": 104,
   "id": "2a706dc2-1240-4bb9-92f9-cb65ba74ae76",
   "metadata": {},
   "outputs": [],
   "source": [
    "create_dir(DATASETS_PATH)"
   ]
  },
  {
   "cell_type": "markdown",
   "id": "985ff16b-5f09-4d83-9185-01ad198fc898",
   "metadata": {},
   "source": [
    "* Download `test.csv`, `train.csv`, and `sample.csv` to `HR_PATH` folder"
   ]
  },
  {
   "cell_type": "code",
   "execution_count": 4,
   "id": "d6480a45",
   "metadata": {},
   "outputs": [],
   "source": [
    "def load_data(path, file_name):\n",
    "    csv_path = os.path.join(path, file_name)\n",
    "    return pd.read_csv(csv_path)"
   ]
  },
  {
   "cell_type": "markdown",
   "id": "bafbe9cf",
   "metadata": {},
   "source": [
    "## Take a quick look at the data structure"
   ]
  },
  {
   "cell_type": "code",
   "execution_count": 5,
   "id": "35471a1f",
   "metadata": {},
   "outputs": [
    {
     "data": {
      "text/html": [
       "<div>\n",
       "<style scoped>\n",
       "    .dataframe tbody tr th:only-of-type {\n",
       "        vertical-align: middle;\n",
       "    }\n",
       "\n",
       "    .dataframe tbody tr th {\n",
       "        vertical-align: top;\n",
       "    }\n",
       "\n",
       "    .dataframe thead th {\n",
       "        text-align: right;\n",
       "    }\n",
       "</style>\n",
       "<table border=\"1\" class=\"dataframe\">\n",
       "  <thead>\n",
       "    <tr style=\"text-align: right;\">\n",
       "      <th></th>\n",
       "      <th>employee_id</th>\n",
       "      <th>department</th>\n",
       "      <th>region</th>\n",
       "      <th>education</th>\n",
       "      <th>gender</th>\n",
       "      <th>recruitment_channel</th>\n",
       "      <th>no_of_trainings</th>\n",
       "      <th>age</th>\n",
       "      <th>previous_year_rating</th>\n",
       "      <th>length_of_service</th>\n",
       "      <th>KPIs_met &gt;80%</th>\n",
       "      <th>awards_won?</th>\n",
       "      <th>avg_training_score</th>\n",
       "      <th>is_promoted</th>\n",
       "    </tr>\n",
       "  </thead>\n",
       "  <tbody>\n",
       "    <tr>\n",
       "      <th>0</th>\n",
       "      <td>65438</td>\n",
       "      <td>Sales &amp; Marketing</td>\n",
       "      <td>region_7</td>\n",
       "      <td>Master's &amp; above</td>\n",
       "      <td>f</td>\n",
       "      <td>sourcing</td>\n",
       "      <td>1</td>\n",
       "      <td>35</td>\n",
       "      <td>5.0</td>\n",
       "      <td>8</td>\n",
       "      <td>1</td>\n",
       "      <td>0</td>\n",
       "      <td>49</td>\n",
       "      <td>0</td>\n",
       "    </tr>\n",
       "    <tr>\n",
       "      <th>1</th>\n",
       "      <td>65141</td>\n",
       "      <td>Operations</td>\n",
       "      <td>region_22</td>\n",
       "      <td>Bachelor's</td>\n",
       "      <td>m</td>\n",
       "      <td>other</td>\n",
       "      <td>1</td>\n",
       "      <td>30</td>\n",
       "      <td>5.0</td>\n",
       "      <td>4</td>\n",
       "      <td>0</td>\n",
       "      <td>0</td>\n",
       "      <td>60</td>\n",
       "      <td>0</td>\n",
       "    </tr>\n",
       "    <tr>\n",
       "      <th>2</th>\n",
       "      <td>7513</td>\n",
       "      <td>Sales &amp; Marketing</td>\n",
       "      <td>region_19</td>\n",
       "      <td>Bachelor's</td>\n",
       "      <td>m</td>\n",
       "      <td>sourcing</td>\n",
       "      <td>1</td>\n",
       "      <td>34</td>\n",
       "      <td>3.0</td>\n",
       "      <td>7</td>\n",
       "      <td>0</td>\n",
       "      <td>0</td>\n",
       "      <td>50</td>\n",
       "      <td>0</td>\n",
       "    </tr>\n",
       "    <tr>\n",
       "      <th>3</th>\n",
       "      <td>2542</td>\n",
       "      <td>Sales &amp; Marketing</td>\n",
       "      <td>region_23</td>\n",
       "      <td>Bachelor's</td>\n",
       "      <td>m</td>\n",
       "      <td>other</td>\n",
       "      <td>2</td>\n",
       "      <td>39</td>\n",
       "      <td>1.0</td>\n",
       "      <td>10</td>\n",
       "      <td>0</td>\n",
       "      <td>0</td>\n",
       "      <td>50</td>\n",
       "      <td>0</td>\n",
       "    </tr>\n",
       "    <tr>\n",
       "      <th>4</th>\n",
       "      <td>48945</td>\n",
       "      <td>Technology</td>\n",
       "      <td>region_26</td>\n",
       "      <td>Bachelor's</td>\n",
       "      <td>m</td>\n",
       "      <td>other</td>\n",
       "      <td>1</td>\n",
       "      <td>45</td>\n",
       "      <td>3.0</td>\n",
       "      <td>2</td>\n",
       "      <td>0</td>\n",
       "      <td>0</td>\n",
       "      <td>73</td>\n",
       "      <td>0</td>\n",
       "    </tr>\n",
       "  </tbody>\n",
       "</table>\n",
       "</div>"
      ],
      "text/plain": [
       "   employee_id         department     region         education gender  \\\n",
       "0        65438  Sales & Marketing   region_7  Master's & above      f   \n",
       "1        65141         Operations  region_22        Bachelor's      m   \n",
       "2         7513  Sales & Marketing  region_19        Bachelor's      m   \n",
       "3         2542  Sales & Marketing  region_23        Bachelor's      m   \n",
       "4        48945         Technology  region_26        Bachelor's      m   \n",
       "\n",
       "  recruitment_channel  no_of_trainings  age  previous_year_rating  \\\n",
       "0            sourcing                1   35                   5.0   \n",
       "1               other                1   30                   5.0   \n",
       "2            sourcing                1   34                   3.0   \n",
       "3               other                2   39                   1.0   \n",
       "4               other                1   45                   3.0   \n",
       "\n",
       "   length_of_service  KPIs_met >80%  awards_won?  avg_training_score  \\\n",
       "0                  8              1            0                  49   \n",
       "1                  4              0            0                  60   \n",
       "2                  7              0            0                  50   \n",
       "3                 10              0            0                  50   \n",
       "4                  2              0            0                  73   \n",
       "\n",
       "   is_promoted  \n",
       "0            0  \n",
       "1            0  \n",
       "2            0  \n",
       "3            0  \n",
       "4            0  "
      ]
     },
     "execution_count": 5,
     "metadata": {},
     "output_type": "execute_result"
    }
   ],
   "source": [
    "train = load_data(HR_PATH, 'train.csv')\n",
    "train.head()"
   ]
  },
  {
   "cell_type": "markdown",
   "id": "e75a5299-45bf-4f57-ae65-948444e6bfac",
   "metadata": {},
   "source": [
    "* Drop `employee_id`"
   ]
  },
  {
   "cell_type": "code",
   "execution_count": 6,
   "id": "7e937507-7441-49e3-ab0a-7bc41506efd3",
   "metadata": {},
   "outputs": [],
   "source": [
    "train_copy = train.copy()\n",
    "train_copy = train_copy.drop(['employee_id'], axis=1)"
   ]
  },
  {
   "cell_type": "code",
   "execution_count": 7,
   "id": "8a85b359",
   "metadata": {},
   "outputs": [
    {
     "name": "stdout",
     "output_type": "stream",
     "text": [
      "<class 'pandas.core.frame.DataFrame'>\n",
      "RangeIndex: 54808 entries, 0 to 54807\n",
      "Data columns (total 13 columns):\n",
      " #   Column                Non-Null Count  Dtype  \n",
      "---  ------                --------------  -----  \n",
      " 0   department            54808 non-null  object \n",
      " 1   region                54808 non-null  object \n",
      " 2   education             52399 non-null  object \n",
      " 3   gender                54808 non-null  object \n",
      " 4   recruitment_channel   54808 non-null  object \n",
      " 5   no_of_trainings       54808 non-null  int64  \n",
      " 6   age                   54808 non-null  int64  \n",
      " 7   previous_year_rating  50684 non-null  float64\n",
      " 8   length_of_service     54808 non-null  int64  \n",
      " 9   KPIs_met >80%         54808 non-null  int64  \n",
      " 10  awards_won?           54808 non-null  int64  \n",
      " 11  avg_training_score    54808 non-null  int64  \n",
      " 12  is_promoted           54808 non-null  int64  \n",
      "dtypes: float64(1), int64(7), object(5)\n",
      "memory usage: 5.4+ MB\n"
     ]
    }
   ],
   "source": [
    "train_copy.info()"
   ]
  },
  {
   "cell_type": "markdown",
   "id": "8cf071b4",
   "metadata": {},
   "source": [
    "* Categorical and numeric variables\n",
    "* Missing values for `education` and `previous_year_rating`"
   ]
  },
  {
   "cell_type": "code",
   "execution_count": 8,
   "id": "05bc0a32-2d15-4072-a649-6abe1bbc0c8b",
   "metadata": {},
   "outputs": [
    {
     "data": {
      "text/html": [
       "<div>\n",
       "<style scoped>\n",
       "    .dataframe tbody tr th:only-of-type {\n",
       "        vertical-align: middle;\n",
       "    }\n",
       "\n",
       "    .dataframe tbody tr th {\n",
       "        vertical-align: top;\n",
       "    }\n",
       "\n",
       "    .dataframe thead th {\n",
       "        text-align: right;\n",
       "    }\n",
       "</style>\n",
       "<table border=\"1\" class=\"dataframe\">\n",
       "  <thead>\n",
       "    <tr style=\"text-align: right;\">\n",
       "      <th></th>\n",
       "      <th>department</th>\n",
       "      <th>region</th>\n",
       "      <th>education</th>\n",
       "      <th>gender</th>\n",
       "      <th>recruitment_channel</th>\n",
       "      <th>no_of_trainings</th>\n",
       "      <th>age</th>\n",
       "      <th>previous_year_rating</th>\n",
       "      <th>length_of_service</th>\n",
       "      <th>KPIs_met &gt;80%</th>\n",
       "      <th>awards_won?</th>\n",
       "      <th>avg_training_score</th>\n",
       "      <th>is_promoted</th>\n",
       "    </tr>\n",
       "  </thead>\n",
       "  <tbody>\n",
       "    <tr>\n",
       "      <th>10</th>\n",
       "      <td>Technology</td>\n",
       "      <td>region_23</td>\n",
       "      <td>NaN</td>\n",
       "      <td>m</td>\n",
       "      <td>sourcing</td>\n",
       "      <td>1</td>\n",
       "      <td>30</td>\n",
       "      <td>NaN</td>\n",
       "      <td>1</td>\n",
       "      <td>0</td>\n",
       "      <td>0</td>\n",
       "      <td>77</td>\n",
       "      <td>0</td>\n",
       "    </tr>\n",
       "    <tr>\n",
       "      <th>21</th>\n",
       "      <td>Operations</td>\n",
       "      <td>region_15</td>\n",
       "      <td>NaN</td>\n",
       "      <td>m</td>\n",
       "      <td>sourcing</td>\n",
       "      <td>1</td>\n",
       "      <td>41</td>\n",
       "      <td>4.0</td>\n",
       "      <td>11</td>\n",
       "      <td>0</td>\n",
       "      <td>0</td>\n",
       "      <td>57</td>\n",
       "      <td>0</td>\n",
       "    </tr>\n",
       "    <tr>\n",
       "      <th>23</th>\n",
       "      <td>Procurement</td>\n",
       "      <td>region_5</td>\n",
       "      <td>Bachelor's</td>\n",
       "      <td>m</td>\n",
       "      <td>other</td>\n",
       "      <td>1</td>\n",
       "      <td>27</td>\n",
       "      <td>NaN</td>\n",
       "      <td>1</td>\n",
       "      <td>0</td>\n",
       "      <td>0</td>\n",
       "      <td>70</td>\n",
       "      <td>0</td>\n",
       "    </tr>\n",
       "    <tr>\n",
       "      <th>29</th>\n",
       "      <td>Sales &amp; Marketing</td>\n",
       "      <td>region_4</td>\n",
       "      <td>Bachelor's</td>\n",
       "      <td>m</td>\n",
       "      <td>sourcing</td>\n",
       "      <td>1</td>\n",
       "      <td>26</td>\n",
       "      <td>NaN</td>\n",
       "      <td>1</td>\n",
       "      <td>0</td>\n",
       "      <td>0</td>\n",
       "      <td>44</td>\n",
       "      <td>0</td>\n",
       "    </tr>\n",
       "    <tr>\n",
       "      <th>32</th>\n",
       "      <td>Sales &amp; Marketing</td>\n",
       "      <td>region_7</td>\n",
       "      <td>NaN</td>\n",
       "      <td>f</td>\n",
       "      <td>sourcing</td>\n",
       "      <td>1</td>\n",
       "      <td>24</td>\n",
       "      <td>1.0</td>\n",
       "      <td>2</td>\n",
       "      <td>0</td>\n",
       "      <td>0</td>\n",
       "      <td>48</td>\n",
       "      <td>0</td>\n",
       "    </tr>\n",
       "    <tr>\n",
       "      <th>...</th>\n",
       "      <td>...</td>\n",
       "      <td>...</td>\n",
       "      <td>...</td>\n",
       "      <td>...</td>\n",
       "      <td>...</td>\n",
       "      <td>...</td>\n",
       "      <td>...</td>\n",
       "      <td>...</td>\n",
       "      <td>...</td>\n",
       "      <td>...</td>\n",
       "      <td>...</td>\n",
       "      <td>...</td>\n",
       "      <td>...</td>\n",
       "    </tr>\n",
       "    <tr>\n",
       "      <th>54742</th>\n",
       "      <td>Sales &amp; Marketing</td>\n",
       "      <td>region_31</td>\n",
       "      <td>NaN</td>\n",
       "      <td>m</td>\n",
       "      <td>other</td>\n",
       "      <td>1</td>\n",
       "      <td>28</td>\n",
       "      <td>4.0</td>\n",
       "      <td>3</td>\n",
       "      <td>0</td>\n",
       "      <td>0</td>\n",
       "      <td>47</td>\n",
       "      <td>0</td>\n",
       "    </tr>\n",
       "    <tr>\n",
       "      <th>54746</th>\n",
       "      <td>Finance</td>\n",
       "      <td>region_6</td>\n",
       "      <td>Bachelor's</td>\n",
       "      <td>m</td>\n",
       "      <td>other</td>\n",
       "      <td>1</td>\n",
       "      <td>28</td>\n",
       "      <td>NaN</td>\n",
       "      <td>1</td>\n",
       "      <td>1</td>\n",
       "      <td>0</td>\n",
       "      <td>61</td>\n",
       "      <td>0</td>\n",
       "    </tr>\n",
       "    <tr>\n",
       "      <th>54773</th>\n",
       "      <td>Finance</td>\n",
       "      <td>region_2</td>\n",
       "      <td>Bachelor's</td>\n",
       "      <td>m</td>\n",
       "      <td>other</td>\n",
       "      <td>1</td>\n",
       "      <td>23</td>\n",
       "      <td>NaN</td>\n",
       "      <td>1</td>\n",
       "      <td>1</td>\n",
       "      <td>0</td>\n",
       "      <td>61</td>\n",
       "      <td>0</td>\n",
       "    </tr>\n",
       "    <tr>\n",
       "      <th>54801</th>\n",
       "      <td>Technology</td>\n",
       "      <td>region_26</td>\n",
       "      <td>Bachelor's</td>\n",
       "      <td>f</td>\n",
       "      <td>sourcing</td>\n",
       "      <td>1</td>\n",
       "      <td>31</td>\n",
       "      <td>NaN</td>\n",
       "      <td>1</td>\n",
       "      <td>0</td>\n",
       "      <td>0</td>\n",
       "      <td>78</td>\n",
       "      <td>0</td>\n",
       "    </tr>\n",
       "    <tr>\n",
       "      <th>54806</th>\n",
       "      <td>Sales &amp; Marketing</td>\n",
       "      <td>region_9</td>\n",
       "      <td>NaN</td>\n",
       "      <td>m</td>\n",
       "      <td>sourcing</td>\n",
       "      <td>1</td>\n",
       "      <td>29</td>\n",
       "      <td>1.0</td>\n",
       "      <td>2</td>\n",
       "      <td>0</td>\n",
       "      <td>0</td>\n",
       "      <td>45</td>\n",
       "      <td>0</td>\n",
       "    </tr>\n",
       "  </tbody>\n",
       "</table>\n",
       "<p>6148 rows × 13 columns</p>\n",
       "</div>"
      ],
      "text/plain": [
       "              department     region   education gender recruitment_channel  \\\n",
       "10            Technology  region_23         NaN      m            sourcing   \n",
       "21            Operations  region_15         NaN      m            sourcing   \n",
       "23           Procurement   region_5  Bachelor's      m               other   \n",
       "29     Sales & Marketing   region_4  Bachelor's      m            sourcing   \n",
       "32     Sales & Marketing   region_7         NaN      f            sourcing   \n",
       "...                  ...        ...         ...    ...                 ...   \n",
       "54742  Sales & Marketing  region_31         NaN      m               other   \n",
       "54746            Finance   region_6  Bachelor's      m               other   \n",
       "54773            Finance   region_2  Bachelor's      m               other   \n",
       "54801         Technology  region_26  Bachelor's      f            sourcing   \n",
       "54806  Sales & Marketing   region_9         NaN      m            sourcing   \n",
       "\n",
       "       no_of_trainings  age  previous_year_rating  length_of_service  \\\n",
       "10                   1   30                   NaN                  1   \n",
       "21                   1   41                   4.0                 11   \n",
       "23                   1   27                   NaN                  1   \n",
       "29                   1   26                   NaN                  1   \n",
       "32                   1   24                   1.0                  2   \n",
       "...                ...  ...                   ...                ...   \n",
       "54742                1   28                   4.0                  3   \n",
       "54746                1   28                   NaN                  1   \n",
       "54773                1   23                   NaN                  1   \n",
       "54801                1   31                   NaN                  1   \n",
       "54806                1   29                   1.0                  2   \n",
       "\n",
       "       KPIs_met >80%  awards_won?  avg_training_score  is_promoted  \n",
       "10                 0            0                  77            0  \n",
       "21                 0            0                  57            0  \n",
       "23                 0            0                  70            0  \n",
       "29                 0            0                  44            0  \n",
       "32                 0            0                  48            0  \n",
       "...              ...          ...                 ...          ...  \n",
       "54742              0            0                  47            0  \n",
       "54746              1            0                  61            0  \n",
       "54773              1            0                  61            0  \n",
       "54801              0            0                  78            0  \n",
       "54806              0            0                  45            0  \n",
       "\n",
       "[6148 rows x 13 columns]"
      ]
     },
     "execution_count": 8,
     "metadata": {},
     "output_type": "execute_result"
    }
   ],
   "source": [
    "train_copy[train_copy.isnull().any(axis=1)]"
   ]
  },
  {
   "cell_type": "markdown",
   "id": "24b68414-d6b5-43c8-b1db-984754e1c449",
   "metadata": {},
   "source": [
    "* `previous_year_rating` missing when `length_of_service` is 1; can imputate with 0\n",
    "* `education` just missing and can replace with constant e.g. missing"
   ]
  },
  {
   "cell_type": "code",
   "execution_count": 9,
   "id": "8cef2fc0-770e-458b-96ca-e368de386773",
   "metadata": {},
   "outputs": [],
   "source": [
    "def check_cardinality(df):\n",
    "    for col in df.columns:\n",
    "        if df[col].dtype == 'object':\n",
    "            print(f'{col}: {df[col].nunique()}')"
   ]
  },
  {
   "cell_type": "code",
   "execution_count": 10,
   "id": "a1729bda-c361-436c-99ae-48a86a2b89a4",
   "metadata": {},
   "outputs": [
    {
     "name": "stdout",
     "output_type": "stream",
     "text": [
      "department: 9\n",
      "region: 34\n",
      "education: 3\n",
      "gender: 2\n",
      "recruitment_channel: 3\n"
     ]
    }
   ],
   "source": [
    "check_cardinality(train_copy)"
   ]
  },
  {
   "cell_type": "markdown",
   "id": "e1ce2ca7",
   "metadata": {},
   "source": [
    "* 5 categories\n",
    "* Cardinality too high for `region` and will elect to remove"
   ]
  },
  {
   "cell_type": "code",
   "execution_count": 11,
   "id": "d850be47",
   "metadata": {},
   "outputs": [
    {
     "data": {
      "text/html": [
       "<div>\n",
       "<style scoped>\n",
       "    .dataframe tbody tr th:only-of-type {\n",
       "        vertical-align: middle;\n",
       "    }\n",
       "\n",
       "    .dataframe tbody tr th {\n",
       "        vertical-align: top;\n",
       "    }\n",
       "\n",
       "    .dataframe thead th {\n",
       "        text-align: right;\n",
       "    }\n",
       "</style>\n",
       "<table border=\"1\" class=\"dataframe\">\n",
       "  <thead>\n",
       "    <tr style=\"text-align: right;\">\n",
       "      <th></th>\n",
       "      <th>no_of_trainings</th>\n",
       "      <th>age</th>\n",
       "      <th>previous_year_rating</th>\n",
       "      <th>length_of_service</th>\n",
       "      <th>KPIs_met &gt;80%</th>\n",
       "      <th>awards_won?</th>\n",
       "      <th>avg_training_score</th>\n",
       "      <th>is_promoted</th>\n",
       "    </tr>\n",
       "  </thead>\n",
       "  <tbody>\n",
       "    <tr>\n",
       "      <th>count</th>\n",
       "      <td>54808.000000</td>\n",
       "      <td>54808.000000</td>\n",
       "      <td>50684.000000</td>\n",
       "      <td>54808.000000</td>\n",
       "      <td>54808.000000</td>\n",
       "      <td>54808.000000</td>\n",
       "      <td>54808.000000</td>\n",
       "      <td>54808.000000</td>\n",
       "    </tr>\n",
       "    <tr>\n",
       "      <th>mean</th>\n",
       "      <td>1.253011</td>\n",
       "      <td>34.803915</td>\n",
       "      <td>3.329256</td>\n",
       "      <td>5.865512</td>\n",
       "      <td>0.351974</td>\n",
       "      <td>0.023172</td>\n",
       "      <td>63.386750</td>\n",
       "      <td>0.085170</td>\n",
       "    </tr>\n",
       "    <tr>\n",
       "      <th>std</th>\n",
       "      <td>0.609264</td>\n",
       "      <td>7.660169</td>\n",
       "      <td>1.259993</td>\n",
       "      <td>4.265094</td>\n",
       "      <td>0.477590</td>\n",
       "      <td>0.150450</td>\n",
       "      <td>13.371559</td>\n",
       "      <td>0.279137</td>\n",
       "    </tr>\n",
       "    <tr>\n",
       "      <th>min</th>\n",
       "      <td>1.000000</td>\n",
       "      <td>20.000000</td>\n",
       "      <td>1.000000</td>\n",
       "      <td>1.000000</td>\n",
       "      <td>0.000000</td>\n",
       "      <td>0.000000</td>\n",
       "      <td>39.000000</td>\n",
       "      <td>0.000000</td>\n",
       "    </tr>\n",
       "    <tr>\n",
       "      <th>25%</th>\n",
       "      <td>1.000000</td>\n",
       "      <td>29.000000</td>\n",
       "      <td>3.000000</td>\n",
       "      <td>3.000000</td>\n",
       "      <td>0.000000</td>\n",
       "      <td>0.000000</td>\n",
       "      <td>51.000000</td>\n",
       "      <td>0.000000</td>\n",
       "    </tr>\n",
       "    <tr>\n",
       "      <th>50%</th>\n",
       "      <td>1.000000</td>\n",
       "      <td>33.000000</td>\n",
       "      <td>3.000000</td>\n",
       "      <td>5.000000</td>\n",
       "      <td>0.000000</td>\n",
       "      <td>0.000000</td>\n",
       "      <td>60.000000</td>\n",
       "      <td>0.000000</td>\n",
       "    </tr>\n",
       "    <tr>\n",
       "      <th>75%</th>\n",
       "      <td>1.000000</td>\n",
       "      <td>39.000000</td>\n",
       "      <td>4.000000</td>\n",
       "      <td>7.000000</td>\n",
       "      <td>1.000000</td>\n",
       "      <td>0.000000</td>\n",
       "      <td>76.000000</td>\n",
       "      <td>0.000000</td>\n",
       "    </tr>\n",
       "    <tr>\n",
       "      <th>max</th>\n",
       "      <td>10.000000</td>\n",
       "      <td>60.000000</td>\n",
       "      <td>5.000000</td>\n",
       "      <td>37.000000</td>\n",
       "      <td>1.000000</td>\n",
       "      <td>1.000000</td>\n",
       "      <td>99.000000</td>\n",
       "      <td>1.000000</td>\n",
       "    </tr>\n",
       "  </tbody>\n",
       "</table>\n",
       "</div>"
      ],
      "text/plain": [
       "       no_of_trainings           age  previous_year_rating  length_of_service  \\\n",
       "count     54808.000000  54808.000000          50684.000000       54808.000000   \n",
       "mean          1.253011     34.803915              3.329256           5.865512   \n",
       "std           0.609264      7.660169              1.259993           4.265094   \n",
       "min           1.000000     20.000000              1.000000           1.000000   \n",
       "25%           1.000000     29.000000              3.000000           3.000000   \n",
       "50%           1.000000     33.000000              3.000000           5.000000   \n",
       "75%           1.000000     39.000000              4.000000           7.000000   \n",
       "max          10.000000     60.000000              5.000000          37.000000   \n",
       "\n",
       "       KPIs_met >80%   awards_won?  avg_training_score   is_promoted  \n",
       "count   54808.000000  54808.000000        54808.000000  54808.000000  \n",
       "mean        0.351974      0.023172           63.386750      0.085170  \n",
       "std         0.477590      0.150450           13.371559      0.279137  \n",
       "min         0.000000      0.000000           39.000000      0.000000  \n",
       "25%         0.000000      0.000000           51.000000      0.000000  \n",
       "50%         0.000000      0.000000           60.000000      0.000000  \n",
       "75%         1.000000      0.000000           76.000000      0.000000  \n",
       "max         1.000000      1.000000           99.000000      1.000000  "
      ]
     },
     "execution_count": 11,
     "metadata": {},
     "output_type": "execute_result"
    }
   ],
   "source": [
    "train_copy.describe()"
   ]
  },
  {
   "cell_type": "code",
   "execution_count": 12,
   "id": "1400b79e",
   "metadata": {},
   "outputs": [
    {
     "name": "stdout",
     "output_type": "stream",
     "text": [
      "Saving figure attribute_histgram_plots\n"
     ]
    },
    {
     "data": {
      "image/png": "[encoded data removed]",
      "text/plain": [
       "<Figure size 2000x1500 with 9 Axes>"
      ]
     },
     "metadata": {},
     "output_type": "display_data"
    }
   ],
   "source": [
    "train_copy.hist(bins=50, figsize=(20,15))\n",
    "save_fig(\"attribute_histgram_plots\")"
   ]
  },
  {
   "cell_type": "markdown",
   "id": "275d3cdb",
   "metadata": {},
   "source": [
    "* `no_of_trainings` discrete\n",
    "* `age` right skewed\n",
    "* `previous_year_rating` discrete 1-5\n",
    "* `length_of_service` right skewed\n",
    "* `KPIs_met` boolean\n",
    "* `awards_won?` boolean, few examples of 1\n",
    "* `avg_training_score` could benefit from binning\n",
    "* `is_promoted` target, significant class imbalance"
   ]
  },
  {
   "cell_type": "code",
   "execution_count": 13,
   "id": "9dc9a22c-e630-48e7-9ac6-05eb70947389",
   "metadata": {},
   "outputs": [
    {
     "name": "stdout",
     "output_type": "stream",
     "text": [
      "is_promoted:\n",
      "0    50140\n",
      "1     4668\n",
      "Name: is_promoted, dtype: int64\n",
      "0    0.91483\n",
      "1    0.08517\n",
      "Name: is_promoted, dtype: float64\n"
     ]
    }
   ],
   "source": [
    "print('is_promoted:')\n",
    "print(train_copy['is_promoted'].value_counts())\n",
    "print(train_copy['is_promoted'].value_counts()/len(train_copy))"
   ]
  },
  {
   "cell_type": "code",
   "execution_count": 14,
   "id": "f33263e3-0b6a-4a67-bdd3-0d8e9652fd10",
   "metadata": {},
   "outputs": [
    {
     "name": "stdout",
     "output_type": "stream",
     "text": [
      "awards_won?:\n",
      "0    53538\n",
      "1     1270\n",
      "Name: awards_won?, dtype: int64\n",
      "0    0.976828\n",
      "1    0.023172\n",
      "Name: awards_won?, dtype: float64\n"
     ]
    }
   ],
   "source": [
    "print('awards_won?:')\n",
    "print(train_copy['awards_won?'].value_counts())\n",
    "print(train_copy['awards_won?'].value_counts()/len(train_copy))"
   ]
  },
  {
   "cell_type": "markdown",
   "id": "0d66e7c1",
   "metadata": {},
   "source": [
    "# Create a test set"
   ]
  },
  {
   "cell_type": "markdown",
   "id": "b573df8f",
   "metadata": {},
   "source": [
    "* Test set has already been created, so not applicable here"
   ]
  },
  {
   "cell_type": "markdown",
   "id": "76ab59b7",
   "metadata": {},
   "source": [
    "# EDA"
   ]
  },
  {
   "cell_type": "markdown",
   "id": "3ba17bc9",
   "metadata": {},
   "source": [
    "## Looking for correlations"
   ]
  },
  {
   "cell_type": "code",
   "execution_count": 15,
   "id": "21b716f7",
   "metadata": {},
   "outputs": [],
   "source": [
    "corr_matrix = train_copy.corr()"
   ]
  },
  {
   "cell_type": "code",
   "execution_count": 16,
   "id": "ce070751",
   "metadata": {},
   "outputs": [
    {
     "data": {
      "text/plain": [
       "is_promoted             1.000000\n",
       "KPIs_met >80%           0.221582\n",
       "awards_won?             0.195871\n",
       "avg_training_score      0.181147\n",
       "previous_year_rating    0.159320\n",
       "length_of_service      -0.010670\n",
       "age                    -0.017166\n",
       "no_of_trainings        -0.024896\n",
       "Name: is_promoted, dtype: float64"
      ]
     },
     "execution_count": 16,
     "metadata": {},
     "output_type": "execute_result"
    }
   ],
   "source": [
    "corr_matrix[\"is_promoted\"].sort_values(ascending=False)"
   ]
  },
  {
   "cell_type": "markdown",
   "id": "6fa98bf1",
   "metadata": {},
   "source": [
    "* `KPIs_met >80%` biggest predictor of target"
   ]
  },
  {
   "cell_type": "markdown",
   "id": "3250f067",
   "metadata": {},
   "source": [
    "# Prepare the data for machine learning algorithms "
   ]
  },
  {
   "cell_type": "code",
   "execution_count": 17,
   "id": "1b98fce5",
   "metadata": {},
   "outputs": [],
   "source": [
    "hr = train.drop(\"is_promoted\", axis=1)  # drop labels for training set\n",
    "hr_labels = train[\"is_promoted\"].copy()"
   ]
  },
  {
   "cell_type": "markdown",
   "id": "c6d6fdde",
   "metadata": {},
   "source": [
    "## Transformation pipelines"
   ]
  },
  {
   "cell_type": "markdown",
   "id": "932b4040",
   "metadata": {},
   "source": [
    "* Build a pipeline for preprocessing the numerical attributes:"
   ]
  },
  {
   "cell_type": "code",
   "execution_count": 18,
   "id": "9dfb8a5a",
   "metadata": {},
   "outputs": [],
   "source": [
    "from sklearn.pipeline import Pipeline\n",
    "from sklearn.impute import SimpleImputer\n",
    "from sklearn.preprocessing import StandardScaler\n",
    "\n",
    "num_pipeline = Pipeline([\n",
    "    ('num_imputer', SimpleImputer(strategy='constant', fill_value=0)),\n",
    "    ('std_scaler', StandardScaler()),\n",
    "])"
   ]
  },
  {
   "cell_type": "code",
   "execution_count": 19,
   "id": "d71e385b-7764-4a14-a319-59a6897d5e50",
   "metadata": {},
   "outputs": [],
   "source": [
    "from sklearn.preprocessing import OneHotEncoder\n",
    "\n",
    "cat_pipeline = Pipeline([\n",
    "    ('cat_imputer', SimpleImputer(strategy='constant', fill_value='missing')),\n",
    "    ('one_hot', OneHotEncoder()),\n",
    "])"
   ]
  },
  {
   "cell_type": "code",
   "execution_count": 20,
   "id": "5067b954",
   "metadata": {},
   "outputs": [],
   "source": [
    "from sklearn.compose import ColumnTransformer\n",
    "\n",
    "num_attribs = [cname for cname in hr.columns if hr[cname].dtype in ['int64', 'float64']]\n",
    "cat_attribs = [cname for cname in hr.columns if hr[cname].dtype == \"object\"]\n",
    "\n",
    "num_attribs.remove('employee_id')\n",
    "cat_attribs.remove('region')\n",
    "\n",
    "full_pipeline = ColumnTransformer([\n",
    "        (\"num\", num_pipeline, num_attribs),\n",
    "        (\"cat\", cat_pipeline, cat_attribs),\n",
    "    ])\n",
    "\n",
    "hr_prepared = full_pipeline.fit_transform(hr)"
   ]
  },
  {
   "cell_type": "code",
   "execution_count": 21,
   "id": "079b744c",
   "metadata": {},
   "outputs": [
    {
     "data": {
      "text/plain": [
       "array([[-0.41527615,  0.02559817,  1.28387791, ...,  0.        ,\n",
       "         0.        ,  1.        ],\n",
       "       [-0.41527615, -0.62713488,  1.28387791, ...,  1.        ,\n",
       "         0.        ,  0.        ],\n",
       "       [-0.41527615, -0.10494844, -0.05262314, ...,  0.        ,\n",
       "         0.        ,  1.        ],\n",
       "       ...,\n",
       "       [-0.41527615, -1.01877471,  1.28387791, ...,  1.        ,\n",
       "         0.        ,  0.        ],\n",
       "       [-0.41527615, -0.75768149, -1.3891242 , ...,  0.        ,\n",
       "         0.        ,  1.        ],\n",
       "       [-0.41527615, -1.01877471, -1.3891242 , ...,  1.        ,\n",
       "         0.        ,  0.        ]])"
      ]
     },
     "execution_count": 21,
     "metadata": {},
     "output_type": "execute_result"
    }
   ],
   "source": [
    "hr_prepared"
   ]
  },
  {
   "cell_type": "code",
   "execution_count": 22,
   "id": "e23ed5e2",
   "metadata": {},
   "outputs": [
    {
     "data": {
      "text/plain": [
       "(54808, 25)"
      ]
     },
     "execution_count": 22,
     "metadata": {},
     "output_type": "execute_result"
    }
   ],
   "source": [
    "hr_prepared.shape"
   ]
  },
  {
   "cell_type": "markdown",
   "id": "67a5115a",
   "metadata": {},
   "source": [
    "# Select and train a model "
   ]
  },
  {
   "cell_type": "markdown",
   "id": "e427cc6b",
   "metadata": {},
   "source": [
    "## Fit models"
   ]
  },
  {
   "cell_type": "code",
   "execution_count": 70,
   "id": "5e903454",
   "metadata": {},
   "outputs": [
    {
     "data": {
      "text/plain": [
       "SGDClassifier(random_state=42)"
      ]
     },
     "execution_count": 70,
     "metadata": {},
     "output_type": "execute_result"
    }
   ],
   "source": [
    "from sklearn.linear_model import SGDClassifier\n",
    "\n",
    "sgd_clf = SGDClassifier(random_state=42)\n",
    "sgd_clf.fit(hr_prepared, hr_labels)"
   ]
  },
  {
   "cell_type": "code",
   "execution_count": 71,
   "id": "3f076ef7",
   "metadata": {},
   "outputs": [
    {
     "data": {
      "text/plain": [
       "RandomForestClassifier(random_state=42)"
      ]
     },
     "execution_count": 71,
     "metadata": {},
     "output_type": "execute_result"
    }
   ],
   "source": [
    "from sklearn.ensemble import RandomForestClassifier\n",
    "\n",
    "forest_clf = RandomForestClassifier(random_state=42)\n",
    "forest_clf.fit(hr_prepared, hr_labels)"
   ]
  },
  {
   "cell_type": "code",
   "execution_count": 77,
   "id": "672ccae8-c36d-4e0d-bc6c-ff187aae7256",
   "metadata": {},
   "outputs": [
    {
     "data": {
      "text/plain": [
       "KNeighborsClassifier()"
      ]
     },
     "execution_count": 77,
     "metadata": {},
     "output_type": "execute_result"
    }
   ],
   "source": [
    "from sklearn.neighbors import KNeighborsClassifier\n",
    "\n",
    "knn_clf = KNeighborsClassifier()\n",
    "knn_clf.fit(hr_prepared, hr_labels)"
   ]
  },
  {
   "cell_type": "markdown",
   "id": "f953a434",
   "metadata": {},
   "source": [
    "## Cross-validation"
   ]
  },
  {
   "cell_type": "code",
   "execution_count": 72,
   "id": "3add0aea",
   "metadata": {},
   "outputs": [],
   "source": [
    "from sklearn.model_selection import cross_val_predict\n",
    "from sklearn.metrics import precision_recall_curve\n",
    "\n",
    "sgd_scores = cross_val_predict(sgd_clf, hr_prepared, hr_labels, cv=3, method=\"decision_function\")\n",
    "sgd_precisions, sgd_recalls, sgd_thresholds = precision_recall_curve(hr_labels, sgd_scores)"
   ]
  },
  {
   "cell_type": "code",
   "execution_count": 73,
   "id": "5fff9789-668a-470a-a5e8-04ded9e9f8c5",
   "metadata": {},
   "outputs": [],
   "source": [
    "forest_fcst = cross_val_predict(forest_clf, hr_prepared, hr_labels, cv=3, method=\"predict_proba\")\n",
    "forest_scores = forest_fcst[:, 1]\n",
    "forest_precisions, forest_recalls, forest_thresholds = precision_recall_curve(hr_labels, forest_scores)"
   ]
  },
  {
   "cell_type": "code",
   "execution_count": 78,
   "id": "0d3825be-3bc8-4b99-8ef9-a9e186405a39",
   "metadata": {},
   "outputs": [],
   "source": [
    "knn_fcst = cross_val_predict(knn_clf, hr_prepared, hr_labels, cv=3, method=\"predict_proba\")\n",
    "knn_scores = knn_fcst[:, 1]\n",
    "knn_precisions, knn_recalls, knn_thresholds = precision_recall_curve(hr_labels, knn_scores)"
   ]
  },
  {
   "cell_type": "code",
   "execution_count": 79,
   "id": "9081bb58-27a0-440c-90af-53cdd9a99100",
   "metadata": {},
   "outputs": [
    {
     "data": {
      "image/png": "[encoded data removed]",
      "text/plain": [
       "<Figure size 640x480 with 1 Axes>"
      ]
     },
     "metadata": {},
     "output_type": "display_data"
    }
   ],
   "source": [
    "plt.plot(sgd_recalls, sgd_precisions, \"b\", label=\"SGD\")\n",
    "plt.plot(forest_recalls, forest_precisions, \"r\", label=\"RF\")\n",
    "plt.plot(knn_recalls, knn_precisions, \"g\", label=\"KNN\")\n",
    "plt.legend(loc=\"lower left\")\n",
    "plt.xlabel(\"Recall\")\n",
    "plt.ylabel(\"Precision\")\n",
    "plt.show()"
   ]
  },
  {
   "cell_type": "code",
   "execution_count": 80,
   "id": "72256868-da59-42cd-b5e6-9a68adfaaa0a",
   "metadata": {},
   "outputs": [
    {
     "name": "stdout",
     "output_type": "stream",
     "text": [
      "SGD AUC: 0.5061986916964105\n",
      " RF AUC: 0.5416596391497872\n",
      "KNN AUC: 0.3908269899251636\n"
     ]
    }
   ],
   "source": [
    "sgd_auc = auc(sgd_recalls, sgd_precisions)\n",
    "forest_auc = auc(forest_recalls, forest_precisions)\n",
    "knn_auc = auc(knn_recalls, knn_precisions)\n",
    "print('SGD AUC:', sgd_auc)\n",
    "print(' RF AUC:', forest_auc)\n",
    "print('KNN AUC:', knn_auc)"
   ]
  },
  {
   "cell_type": "markdown",
   "id": "1949409d-eae0-4977-8e04-c9362e48dc43",
   "metadata": {},
   "source": [
    "* Strange behavior of precision recall curves but I think I did everything correctly\n",
    "* Room for improvement for all classifiers\n",
    "* RF outperforms others"
   ]
  },
  {
   "cell_type": "markdown",
   "id": "acbf9412",
   "metadata": {},
   "source": [
    "# Fine-tune your model"
   ]
  },
  {
   "cell_type": "code",
   "execution_count": 82,
   "id": "956a903f-e189-4108-bd62-a533b3cbc6d4",
   "metadata": {},
   "outputs": [
    {
     "data": {
      "text/plain": [
       "(54808, 25)"
      ]
     },
     "execution_count": 82,
     "metadata": {},
     "output_type": "execute_result"
    }
   ],
   "source": [
    "hr_prepared.shape"
   ]
  },
  {
   "cell_type": "markdown",
   "id": "c2925cde",
   "metadata": {},
   "source": [
    "## Randomized search"
   ]
  },
  {
   "cell_type": "code",
   "execution_count": 84,
   "id": "820e918d",
   "metadata": {},
   "outputs": [
    {
     "data": {
      "text/plain": [
       "RandomizedSearchCV(cv=5, estimator=RandomForestClassifier(random_state=42),\n",
       "                   param_distributions={'max_features': <scipy.stats._distn_infrastructure.rv_discrete_frozen object at 0x0000020B6BC19D90>,\n",
       "                                        'n_estimators': <scipy.stats._distn_infrastructure.rv_discrete_frozen object at 0x0000020B6BC19550>},\n",
       "                   random_state=42, scoring='f1')"
      ]
     },
     "execution_count": 84,
     "metadata": {},
     "output_type": "execute_result"
    }
   ],
   "source": [
    "from sklearn.model_selection import RandomizedSearchCV\n",
    "from scipy.stats import randint\n",
    "\n",
    "param_distribs = {\n",
    "        'n_estimators': randint(low=1, high=200),\n",
    "        'max_features': randint(low=1, high=8),  # will use max of homl (8) and sqrt of feature space (6)\n",
    "    }\n",
    "\n",
    "forest_clf = RandomForestClassifier(random_state=42)  # re-fit without defining n_estimators\n",
    "rnd_search = RandomizedSearchCV(forest_clf, param_distributions=param_distribs,\n",
    "                                n_iter=10, cv=5, scoring='f1', random_state=42)\n",
    "rnd_search.fit(hr_prepared, hr_labels)"
   ]
  },
  {
   "cell_type": "code",
   "execution_count": 85,
   "id": "4b818f7d-284c-457e-8438-17de5e61b1cb",
   "metadata": {},
   "outputs": [],
   "source": [
    "cvres = rnd_search.cv_results_"
   ]
  },
  {
   "cell_type": "code",
   "execution_count": null,
   "id": "903959ed-e277-4709-b3d8-bdcbf0a138f3",
   "metadata": {},
   "outputs": [
    {
     "name": "stdout",
     "output_type": "stream",
     "text": [
      "dict_keys(['mean_fit_time', 'std_fit_time', 'mean_score_time', 'std_score_time', 'param_max_features', 'param_n_estimators', 'params', 'split0_test_score', 'split1_test_score', 'split2_test_score', 'split3_test_score', 'split4_test_score', 'mean_test_score', 'std_test_score', 'rank_test_score'])\n"
     ]
    }
   ],
   "source": [
    "print(cvres.keys())"
   ]
  },
  {
   "cell_type": "code",
   "execution_count": 91,
   "id": "37d29987",
   "metadata": {},
   "outputs": [
    {
     "name": "stdout",
     "output_type": "stream",
     "text": [
      "0.4825707492465602 {'max_features': 7, 'n_estimators': 180}\n",
      "0.4641546009747617 {'max_features': 5, 'n_estimators': 15}\n",
      "0.44501031671317676 {'max_features': 3, 'n_estimators': 72}\n",
      "0.464366305617302 {'max_features': 5, 'n_estimators': 21}\n",
      "0.4809223304012543 {'max_features': 7, 'n_estimators': 122}\n",
      "0.44628619755603616 {'max_features': 3, 'n_estimators': 75}\n",
      "0.44505395597958686 {'max_features': 3, 'n_estimators': 88}\n",
      "0.473386780437295 {'max_features': 5, 'n_estimators': 100}\n",
      "0.4467835613655778 {'max_features': 3, 'n_estimators': 150}\n",
      "0.3267651314875811 {'max_features': 5, 'n_estimators': 2}\n"
     ]
    }
   ],
   "source": [
    "for mean_score, params in zip(cvres[\"mean_test_score\"], cvres[\"params\"]):\n",
    "    print(mean_score, params)"
   ]
  },
  {
   "cell_type": "markdown",
   "id": "8c2c6466-500a-4210-a2b8-6503194568ef",
   "metadata": {},
   "source": [
    "* Best performance with `max_features` = 7 and `n_estimators` = 180\n",
    "* Both at top end of param range\n",
    "* Opportunity to further optimize by shifting/ increasing param range"
   ]
  },
  {
   "cell_type": "markdown",
   "id": "e743d1ab",
   "metadata": {},
   "source": [
    "## Analyze the best models and their errors"
   ]
  },
  {
   "cell_type": "code",
   "execution_count": 92,
   "id": "d93db42e",
   "metadata": {},
   "outputs": [
    {
     "data": {
      "text/plain": [
       "array([0.02866556, 0.17220043, 0.05816031, 0.11846432, 0.04773148,\n",
       "       0.02935235, 0.35408284, 0.01214352, 0.00805769, 0.00492871,\n",
       "       0.00302723, 0.02068865, 0.01267839, 0.00640283, 0.03318653,\n",
       "       0.00833693, 0.01013325, 0.001477  , 0.00890049, 0.0030011 ,\n",
       "       0.01203262, 0.0121904 , 0.01457096, 0.0048272 , 0.01475922])"
      ]
     },
     "execution_count": 92,
     "metadata": {},
     "output_type": "execute_result"
    }
   ],
   "source": [
    "feature_importances = rnd_search.best_estimator_.feature_importances_\n",
    "feature_importances"
   ]
  },
  {
   "cell_type": "code",
   "execution_count": 93,
   "id": "0b7c52b4",
   "metadata": {},
   "outputs": [
    {
     "data": {
      "text/plain": [
       "[(0.3540828406578188, 'avg_training_score'),\n",
       " (0.17220042702319255, 'age'),\n",
       " (0.11846431862203552, 'length_of_service'),\n",
       " (0.05816030695093077, 'previous_year_rating'),\n",
       " (0.0477314788489947, 'KPIs_met >80%'),\n",
       " (0.03318653076004579, 'Sales & Marketing'),\n",
       " (0.029352348539061074, 'awards_won?'),\n",
       " (0.028665556900288738, 'no_of_trainings'),\n",
       " (0.020688654520335855, 'Operations'),\n",
       " (0.012678389374444892, 'Procurement'),\n",
       " (0.012143522072382531, 'Analytics'),\n",
       " (0.008336928864093962, 'Technology'),\n",
       " (0.0080576930509313, 'Finance'),\n",
       " (0.006402829692442359, 'R&D'),\n",
       " (0.0049287055028550235, 'HR'),\n",
       " (0.00302722725694184, 'Legal')]"
      ]
     },
     "execution_count": 93,
     "metadata": {},
     "output_type": "execute_result"
    }
   ],
   "source": [
    "cat_encoder = full_pipeline.named_transformers_[\"cat\"][\"one_hot\"]\n",
    "cat_one_hot_attribs = list(cat_encoder.categories_[0])\n",
    "attributes = num_attribs + cat_one_hot_attribs\n",
    "sorted(zip(feature_importances, attributes), reverse=True)"
   ]
  },
  {
   "cell_type": "markdown",
   "id": "e9801932",
   "metadata": {},
   "source": [
    "# Evaluate system on test set"
   ]
  },
  {
   "cell_type": "markdown",
   "id": "b29bfa29-cb79-4458-8384-c323f5a595f7",
   "metadata": {},
   "source": [
    "## Generate predictions"
   ]
  },
  {
   "cell_type": "code",
   "execution_count": 94,
   "id": "a764a1df",
   "metadata": {},
   "outputs": [],
   "source": [
    "final_model = rnd_search.best_estimator_\n",
    "\n",
    "X_test = load_data(HR_PATH, 'test.csv')\n",
    "X_test_prepared = full_pipeline.transform(X_test)\n",
    "final_predictions = final_model.predict(X_test_prepared)"
   ]
  },
  {
   "cell_type": "markdown",
   "id": "32ab12b9-eaca-476f-ab81-d66511cccadc",
   "metadata": {},
   "source": [
    " ## Create prediction file"
   ]
  },
  {
   "cell_type": "code",
   "execution_count": 105,
   "id": "0b2637a4-4511-4f78-aec9-2430f289ceb1",
   "metadata": {},
   "outputs": [],
   "source": [
    "employee_id = X_test['employee_id']\n",
    "\n",
    "submission_df_1 = pd.DataFrame({\n",
    "    \"employee_id\": employee_id,\n",
    "    \"is_promoted\": final_predictions\n",
    "})"
   ]
  },
  {
   "cell_type": "code",
   "execution_count": 108,
   "id": "8f78a82b-92d6-45f6-9cd4-2cd64a2f4a39",
   "metadata": {},
   "outputs": [],
   "source": [
    "SUBMISSIONS_PATH = os.path.join('submissions', 'hr')\n",
    "create_dir(SUBMISSIONS_PATH)"
   ]
  },
  {
   "cell_type": "code",
   "execution_count": 123,
   "id": "4dfb5352-779b-49d1-b536-8cb3e8032a40",
   "metadata": {},
   "outputs": [],
   "source": [
    "def save_submission(model, path, file_name, index=False):\n",
    "    csv_path = os.path.join(path, file_name)\n",
    "    return model.to_csv(csv_path, index=index)"
   ]
  },
  {
   "cell_type": "code",
   "execution_count": 124,
   "id": "1151bcbf-85eb-45d3-891a-e01c6357f6b1",
   "metadata": {},
   "outputs": [],
   "source": [
    "save_submission(submission_df_1, SUBMISSIONS_PATH, 'submission_1.csv')"
   ]
  },
  {
   "cell_type": "markdown",
   "id": "5f3447f1",
   "metadata": {},
   "source": [
    "## Save model"
   ]
  },
  {
   "cell_type": "code",
   "execution_count": 116,
   "id": "e8cd83f9-7954-4639-80e6-f547478fe8f0",
   "metadata": {},
   "outputs": [],
   "source": [
    "MODELS_PATH = os.path.join('models', 'hr')\n",
    "create_dir(MODELS_PATH)"
   ]
  },
  {
   "cell_type": "code",
   "execution_count": 119,
   "id": "22bbee30-3cea-49e6-a51f-c8532efdbcd9",
   "metadata": {},
   "outputs": [],
   "source": [
    "def save_model(path, model_name, model):\n",
    "    model_path = os.path.join(path, model_name)\n",
    "    joblib.dump(model, model_path)"
   ]
  },
  {
   "cell_type": "code",
   "execution_count": 120,
   "id": "218be92f",
   "metadata": {},
   "outputs": [],
   "source": [
    "import joblib\n",
    "\n",
    "save_model(MODELS_PATH, 'final_hr_model.pkl', final_model)"
   ]
  }
 ],
 "metadata": {
  "kernelspec": {
   "display_name": "Python 3 (ipykernel)",
   "language": "python",
   "name": "python3"
  },
  "language_info": {
   "codemirror_mode": {
    "name": "ipython",
    "version": 3
   },
   "file_extension": ".py",
   "mimetype": "text/x-python",
   "name": "python",
   "nbconvert_exporter": "python",
   "pygments_lexer": "ipython3",
   "version": "3.9.13"
  }
 },
 "nbformat": 4,
 "nbformat_minor": 5
}
