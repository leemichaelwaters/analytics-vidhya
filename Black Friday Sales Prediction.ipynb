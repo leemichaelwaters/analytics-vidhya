{
 "cells": [
  {
   "cell_type": "markdown",
   "id": "431bfa80",
   "metadata": {},
   "source": [
    "[Black Friday Sales Prediction:](https://datahack.analyticsvidhya.com/contest/black-friday/#ProblemStatement) Build a model to predict Black Friday sales."
   ]
  },
  {
   "cell_type": "markdown",
   "id": "7291bf81",
   "metadata": {},
   "source": [
    "# Setup"
   ]
  },
  {
   "cell_type": "code",
   "execution_count": 1,
   "id": "a67ef929",
   "metadata": {},
   "outputs": [],
   "source": [
    "# Python >= 3.5 is required\n",
    "import sys\n",
    "assert sys.version_info >= (3, 5)\n",
    "\n",
    "# Scikit-Learn >= 0.20 is required\n",
    "import sklearn\n",
    "assert sklearn.__version__ >= \"0.20\"\n",
    "\n",
    "# Common imports\n",
    "import numpy as np\n",
    "import os\n",
    "import pandas as pd\n",
    "\n",
    "# To plot pretty figures\n",
    "%matplotlib inline\n",
    "import matplotlib as mpl\n",
    "import matplotlib.pyplot as plt\n",
    "mpl.rc('axes', labelsize=14)\n",
    "mpl.rc('xtick', labelsize=12)\n",
    "mpl.rc('ytick', labelsize=12)\n",
    "\n",
    "# Where to save the figures\n",
    "PROJECT_ROOT_DIR = \".\"\n",
    "PROJECT_ID = \"black_friday_sales_prediction\"\n",
    "IMAGES_PATH = os.path.join(PROJECT_ROOT_DIR, \"images\", PROJECT_ID)\n",
    "os.makedirs(IMAGES_PATH, exist_ok=True)\n",
    "\n",
    "def save_fig(fig_id, tight_layout=True, fig_extension=\"png\", resolution=300):\n",
    "    path = os.path.join(IMAGES_PATH, fig_id + \".\" + fig_extension)\n",
    "    print(\"Saving figure\", fig_id)\n",
    "    if tight_layout:\n",
    "        plt.tight_layout()\n",
    "    plt.savefig(path, format=fig_extension, dpi=resolution)"
   ]
  },
  {
   "cell_type": "markdown",
   "id": "51cae3b3",
   "metadata": {},
   "source": [
    "# Get the data"
   ]
  },
  {
   "cell_type": "markdown",
   "id": "b1481bec",
   "metadata": {},
   "source": [
    "## Download the data"
   ]
  },
  {
   "cell_type": "code",
   "execution_count": 115,
   "id": "e655f8a0-31bb-4a05-8bfb-8d339d9bbb66",
   "metadata": {},
   "outputs": [],
   "source": [
    "DATASETS_PATH = os.path.join(PROJECT_ROOT_DIR, \"datasets\", PROJECT_ID)\n",
    "\n",
    "def create_dir(file_path):\n",
    "    if not os.path.isdir(file_path):\n",
    "        os.makedirs(file_path)"
   ]
  },
  {
   "cell_type": "code",
   "execution_count": 116,
   "id": "2a706dc2-1240-4bb9-92f9-cb65ba74ae76",
   "metadata": {},
   "outputs": [],
   "source": [
    "create_dir(DATASETS_PATH)"
   ]
  },
  {
   "cell_type": "markdown",
   "id": "985ff16b-5f09-4d83-9185-01ad198fc898",
   "metadata": {},
   "source": [
    "* Download `test.csv`, `train.csv`, and `sample.csv` to datasets folder"
   ]
  },
  {
   "cell_type": "code",
   "execution_count": 4,
   "id": "d6480a45",
   "metadata": {},
   "outputs": [],
   "source": [
    "def load_data(path, file_name):\n",
    "    csv_path = os.path.join(path, file_name)\n",
    "    return pd.read_csv(csv_path)"
   ]
  },
  {
   "cell_type": "markdown",
   "id": "bafbe9cf",
   "metadata": {},
   "source": [
    "## Take a quick look at the data structure"
   ]
  },
  {
   "cell_type": "code",
   "execution_count": 5,
   "id": "35471a1f",
   "metadata": {},
   "outputs": [],
   "source": [
    "train = load_data(DATASETS_PATH, 'train.csv')"
   ]
  },
  {
   "cell_type": "code",
   "execution_count": 6,
   "id": "3a232e33-928c-4402-8d01-01eef32e086c",
   "metadata": {},
   "outputs": [
    {
     "data": {
      "text/html": [
       "<div>\n",
       "<style scoped>\n",
       "    .dataframe tbody tr th:only-of-type {\n",
       "        vertical-align: middle;\n",
       "    }\n",
       "\n",
       "    .dataframe tbody tr th {\n",
       "        vertical-align: top;\n",
       "    }\n",
       "\n",
       "    .dataframe thead th {\n",
       "        text-align: right;\n",
       "    }\n",
       "</style>\n",
       "<table border=\"1\" class=\"dataframe\">\n",
       "  <thead>\n",
       "    <tr style=\"text-align: right;\">\n",
       "      <th></th>\n",
       "      <th>User_ID</th>\n",
       "      <th>Product_ID</th>\n",
       "      <th>Gender</th>\n",
       "      <th>Age</th>\n",
       "      <th>Occupation</th>\n",
       "      <th>City_Category</th>\n",
       "      <th>Stay_In_Current_City_Years</th>\n",
       "      <th>Marital_Status</th>\n",
       "      <th>Product_Category_1</th>\n",
       "      <th>Product_Category_2</th>\n",
       "      <th>Product_Category_3</th>\n",
       "      <th>Purchase</th>\n",
       "    </tr>\n",
       "  </thead>\n",
       "  <tbody>\n",
       "    <tr>\n",
       "      <th>0</th>\n",
       "      <td>1000001</td>\n",
       "      <td>P00069042</td>\n",
       "      <td>F</td>\n",
       "      <td>0-17</td>\n",
       "      <td>10</td>\n",
       "      <td>A</td>\n",
       "      <td>2</td>\n",
       "      <td>0</td>\n",
       "      <td>3</td>\n",
       "      <td>NaN</td>\n",
       "      <td>NaN</td>\n",
       "      <td>8370</td>\n",
       "    </tr>\n",
       "    <tr>\n",
       "      <th>1</th>\n",
       "      <td>1000001</td>\n",
       "      <td>P00248942</td>\n",
       "      <td>F</td>\n",
       "      <td>0-17</td>\n",
       "      <td>10</td>\n",
       "      <td>A</td>\n",
       "      <td>2</td>\n",
       "      <td>0</td>\n",
       "      <td>1</td>\n",
       "      <td>6.0</td>\n",
       "      <td>14.0</td>\n",
       "      <td>15200</td>\n",
       "    </tr>\n",
       "    <tr>\n",
       "      <th>2</th>\n",
       "      <td>1000001</td>\n",
       "      <td>P00087842</td>\n",
       "      <td>F</td>\n",
       "      <td>0-17</td>\n",
       "      <td>10</td>\n",
       "      <td>A</td>\n",
       "      <td>2</td>\n",
       "      <td>0</td>\n",
       "      <td>12</td>\n",
       "      <td>NaN</td>\n",
       "      <td>NaN</td>\n",
       "      <td>1422</td>\n",
       "    </tr>\n",
       "    <tr>\n",
       "      <th>3</th>\n",
       "      <td>1000001</td>\n",
       "      <td>P00085442</td>\n",
       "      <td>F</td>\n",
       "      <td>0-17</td>\n",
       "      <td>10</td>\n",
       "      <td>A</td>\n",
       "      <td>2</td>\n",
       "      <td>0</td>\n",
       "      <td>12</td>\n",
       "      <td>14.0</td>\n",
       "      <td>NaN</td>\n",
       "      <td>1057</td>\n",
       "    </tr>\n",
       "    <tr>\n",
       "      <th>4</th>\n",
       "      <td>1000002</td>\n",
       "      <td>P00285442</td>\n",
       "      <td>M</td>\n",
       "      <td>55+</td>\n",
       "      <td>16</td>\n",
       "      <td>C</td>\n",
       "      <td>4+</td>\n",
       "      <td>0</td>\n",
       "      <td>8</td>\n",
       "      <td>NaN</td>\n",
       "      <td>NaN</td>\n",
       "      <td>7969</td>\n",
       "    </tr>\n",
       "  </tbody>\n",
       "</table>\n",
       "</div>"
      ],
      "text/plain": [
       "   User_ID Product_ID Gender   Age  Occupation City_Category  \\\n",
       "0  1000001  P00069042      F  0-17          10             A   \n",
       "1  1000001  P00248942      F  0-17          10             A   \n",
       "2  1000001  P00087842      F  0-17          10             A   \n",
       "3  1000001  P00085442      F  0-17          10             A   \n",
       "4  1000002  P00285442      M   55+          16             C   \n",
       "\n",
       "  Stay_In_Current_City_Years  Marital_Status  Product_Category_1  \\\n",
       "0                          2               0                   3   \n",
       "1                          2               0                   1   \n",
       "2                          2               0                  12   \n",
       "3                          2               0                  12   \n",
       "4                         4+               0                   8   \n",
       "\n",
       "   Product_Category_2  Product_Category_3  Purchase  \n",
       "0                 NaN                 NaN      8370  \n",
       "1                 6.0                14.0     15200  \n",
       "2                 NaN                 NaN      1422  \n",
       "3                14.0                 NaN      1057  \n",
       "4                 NaN                 NaN      7969  "
      ]
     },
     "execution_count": 6,
     "metadata": {},
     "output_type": "execute_result"
    }
   ],
   "source": [
    "train.head()"
   ]
  },
  {
   "cell_type": "code",
   "execution_count": 7,
   "id": "7e937507-7441-49e3-ab0a-7bc41506efd3",
   "metadata": {},
   "outputs": [],
   "source": [
    "train_copy = train.copy()"
   ]
  },
  {
   "cell_type": "code",
   "execution_count": 8,
   "id": "6c233ff7-344e-4fe8-855d-7e8cddca1aec",
   "metadata": {},
   "outputs": [
    {
     "data": {
      "application/vnd.jupyter.widget-view+json": {
       "model_id": "51ec6c4fd66942f086b433be446ef18f",
       "version_major": 2,
       "version_minor": 0
      },
      "text/plain": [
       "                                             |          | [  0%]   00:00 -> (? left)"
      ]
     },
     "metadata": {},
     "output_type": "display_data"
    },
    {
     "name": "stdout",
     "output_type": "stream",
     "text": [
      "Report edal.html was generated! NOTEBOOK/COLAB USERS: the web browser MAY not pop up, regardless, the report IS saved in your notebook/colab files.\n"
     ]
    }
   ],
   "source": [
    "import sweetviz as sv\n",
    "eda = sv.analyze(train_copy)\n",
    "eda.show_html('edal.html')"
   ]
  },
  {
   "cell_type": "markdown",
   "id": "86ce9c24-0c63-4462-8be0-3e9b0766d25b",
   "metadata": {},
   "source": [
    "Observations:\n",
    "* A ton of data (550k records)\n",
    "* `User_ID` could have useful info if same customer in test set. However, it should be treated as a categorical variable but there are 6k unique values. Plan to remove.\n",
    "* `Product_ID` 4k unique values. Every value starts with 'P' so don't see how you can split to get useful information. Plan to remove.\n",
    "* `Gender` boolean good\n",
    "* `Age` binned good\n",
    "* `Ocupation` binned, 21 categories, could be issue for OHE, numerical needs to be categorical\n",
    "* `City_Category` binned good\n",
    "* `Stay_In_Current_City_Years` binned good\n",
    "* `Marital_Status` binned good, numerical needs to be categorical\n",
    "* `Product_Category_1` primary category, 20 distinct, binned, needs to be categorical\n",
    "* `Product_Category_2` secondary category, 17 distinct, binned, needs to be categorical, imputate missing with constant 'missing'\n",
    "* `Product_Category_3` tertiary category, 15 distinct, binned, needs to be categorical, imputate missing with constant 'missing'\n",
    "* `Purchase` target\n",
    "* Every feature should be categorical"
   ]
  },
  {
   "cell_type": "code",
   "execution_count": 9,
   "id": "44ecacfc-0dba-44aa-8432-74b02c5ed3af",
   "metadata": {},
   "outputs": [
    {
     "name": "stdout",
     "output_type": "stream",
     "text": [
      "<class 'pandas.core.frame.DataFrame'>\n",
      "RangeIndex: 550068 entries, 0 to 550067\n",
      "Data columns (total 12 columns):\n",
      " #   Column                      Non-Null Count   Dtype  \n",
      "---  ------                      --------------   -----  \n",
      " 0   User_ID                     550068 non-null  int64  \n",
      " 1   Product_ID                  550068 non-null  object \n",
      " 2   Gender                      550068 non-null  object \n",
      " 3   Age                         550068 non-null  object \n",
      " 4   Occupation                  550068 non-null  int64  \n",
      " 5   City_Category               550068 non-null  object \n",
      " 6   Stay_In_Current_City_Years  550068 non-null  object \n",
      " 7   Marital_Status              550068 non-null  int64  \n",
      " 8   Product_Category_1          550068 non-null  int64  \n",
      " 9   Product_Category_2          376430 non-null  float64\n",
      " 10  Product_Category_3          166821 non-null  float64\n",
      " 11  Purchase                    550068 non-null  int64  \n",
      "dtypes: float64(2), int64(5), object(5)\n",
      "memory usage: 50.4+ MB\n"
     ]
    }
   ],
   "source": [
    "train_copy.info()"
   ]
  },
  {
   "cell_type": "code",
   "execution_count": 10,
   "id": "d850be47",
   "metadata": {},
   "outputs": [
    {
     "data": {
      "text/html": [
       "<div>\n",
       "<style scoped>\n",
       "    .dataframe tbody tr th:only-of-type {\n",
       "        vertical-align: middle;\n",
       "    }\n",
       "\n",
       "    .dataframe tbody tr th {\n",
       "        vertical-align: top;\n",
       "    }\n",
       "\n",
       "    .dataframe thead th {\n",
       "        text-align: right;\n",
       "    }\n",
       "</style>\n",
       "<table border=\"1\" class=\"dataframe\">\n",
       "  <thead>\n",
       "    <tr style=\"text-align: right;\">\n",
       "      <th></th>\n",
       "      <th>User_ID</th>\n",
       "      <th>Occupation</th>\n",
       "      <th>Marital_Status</th>\n",
       "      <th>Product_Category_1</th>\n",
       "      <th>Product_Category_2</th>\n",
       "      <th>Product_Category_3</th>\n",
       "      <th>Purchase</th>\n",
       "    </tr>\n",
       "  </thead>\n",
       "  <tbody>\n",
       "    <tr>\n",
       "      <th>count</th>\n",
       "      <td>5.500680e+05</td>\n",
       "      <td>550068.000000</td>\n",
       "      <td>550068.000000</td>\n",
       "      <td>550068.000000</td>\n",
       "      <td>376430.000000</td>\n",
       "      <td>166821.000000</td>\n",
       "      <td>550068.000000</td>\n",
       "    </tr>\n",
       "    <tr>\n",
       "      <th>mean</th>\n",
       "      <td>1.003029e+06</td>\n",
       "      <td>8.076707</td>\n",
       "      <td>0.409653</td>\n",
       "      <td>5.404270</td>\n",
       "      <td>9.842329</td>\n",
       "      <td>12.668243</td>\n",
       "      <td>9263.968713</td>\n",
       "    </tr>\n",
       "    <tr>\n",
       "      <th>std</th>\n",
       "      <td>1.727592e+03</td>\n",
       "      <td>6.522660</td>\n",
       "      <td>0.491770</td>\n",
       "      <td>3.936211</td>\n",
       "      <td>5.086590</td>\n",
       "      <td>4.125338</td>\n",
       "      <td>5023.065394</td>\n",
       "    </tr>\n",
       "    <tr>\n",
       "      <th>min</th>\n",
       "      <td>1.000001e+06</td>\n",
       "      <td>0.000000</td>\n",
       "      <td>0.000000</td>\n",
       "      <td>1.000000</td>\n",
       "      <td>2.000000</td>\n",
       "      <td>3.000000</td>\n",
       "      <td>12.000000</td>\n",
       "    </tr>\n",
       "    <tr>\n",
       "      <th>25%</th>\n",
       "      <td>1.001516e+06</td>\n",
       "      <td>2.000000</td>\n",
       "      <td>0.000000</td>\n",
       "      <td>1.000000</td>\n",
       "      <td>5.000000</td>\n",
       "      <td>9.000000</td>\n",
       "      <td>5823.000000</td>\n",
       "    </tr>\n",
       "    <tr>\n",
       "      <th>50%</th>\n",
       "      <td>1.003077e+06</td>\n",
       "      <td>7.000000</td>\n",
       "      <td>0.000000</td>\n",
       "      <td>5.000000</td>\n",
       "      <td>9.000000</td>\n",
       "      <td>14.000000</td>\n",
       "      <td>8047.000000</td>\n",
       "    </tr>\n",
       "    <tr>\n",
       "      <th>75%</th>\n",
       "      <td>1.004478e+06</td>\n",
       "      <td>14.000000</td>\n",
       "      <td>1.000000</td>\n",
       "      <td>8.000000</td>\n",
       "      <td>15.000000</td>\n",
       "      <td>16.000000</td>\n",
       "      <td>12054.000000</td>\n",
       "    </tr>\n",
       "    <tr>\n",
       "      <th>max</th>\n",
       "      <td>1.006040e+06</td>\n",
       "      <td>20.000000</td>\n",
       "      <td>1.000000</td>\n",
       "      <td>20.000000</td>\n",
       "      <td>18.000000</td>\n",
       "      <td>18.000000</td>\n",
       "      <td>23961.000000</td>\n",
       "    </tr>\n",
       "  </tbody>\n",
       "</table>\n",
       "</div>"
      ],
      "text/plain": [
       "            User_ID     Occupation  Marital_Status  Product_Category_1  \\\n",
       "count  5.500680e+05  550068.000000   550068.000000       550068.000000   \n",
       "mean   1.003029e+06       8.076707        0.409653            5.404270   \n",
       "std    1.727592e+03       6.522660        0.491770            3.936211   \n",
       "min    1.000001e+06       0.000000        0.000000            1.000000   \n",
       "25%    1.001516e+06       2.000000        0.000000            1.000000   \n",
       "50%    1.003077e+06       7.000000        0.000000            5.000000   \n",
       "75%    1.004478e+06      14.000000        1.000000            8.000000   \n",
       "max    1.006040e+06      20.000000        1.000000           20.000000   \n",
       "\n",
       "       Product_Category_2  Product_Category_3       Purchase  \n",
       "count       376430.000000       166821.000000  550068.000000  \n",
       "mean             9.842329           12.668243    9263.968713  \n",
       "std              5.086590            4.125338    5023.065394  \n",
       "min              2.000000            3.000000      12.000000  \n",
       "25%              5.000000            9.000000    5823.000000  \n",
       "50%              9.000000           14.000000    8047.000000  \n",
       "75%             15.000000           16.000000   12054.000000  \n",
       "max             18.000000           18.000000   23961.000000  "
      ]
     },
     "execution_count": 10,
     "metadata": {},
     "output_type": "execute_result"
    }
   ],
   "source": [
    "train_copy.describe()"
   ]
  },
  {
   "cell_type": "code",
   "execution_count": 11,
   "id": "1400b79e",
   "metadata": {},
   "outputs": [
    {
     "name": "stdout",
     "output_type": "stream",
     "text": [
      "Saving figure attribute_histgram_plots\n"
     ]
    },
    {
     "data": {
      "image/png": "[encoded data removed]",
      "text/plain": [
       "<Figure size 2000x1500 with 9 Axes>"
      ]
     },
     "metadata": {},
     "output_type": "display_data"
    }
   ],
   "source": [
    "train_copy.hist(bins=50, figsize=(20,15))\n",
    "save_fig(\"attribute_histgram_plots\")"
   ]
  },
  {
   "cell_type": "markdown",
   "id": "0d66e7c1",
   "metadata": {},
   "source": [
    "# Create a test set"
   ]
  },
  {
   "cell_type": "markdown",
   "id": "b573df8f",
   "metadata": {},
   "source": [
    "* Test set has already been created, so not applicable here\n",
    "* Plan to use k-folds cv"
   ]
  },
  {
   "cell_type": "markdown",
   "id": "76ab59b7",
   "metadata": {},
   "source": [
    "# EDA"
   ]
  },
  {
   "cell_type": "markdown",
   "id": "3ba17bc9",
   "metadata": {},
   "source": [
    "## Looking for correlations"
   ]
  },
  {
   "cell_type": "code",
   "execution_count": 12,
   "id": "443cdef6-950c-4c13-87a7-53c42aef2d99",
   "metadata": {},
   "outputs": [],
   "source": [
    "train_copy = train_copy.drop(['User_ID'], axis=1)"
   ]
  },
  {
   "cell_type": "code",
   "execution_count": 13,
   "id": "21b716f7",
   "metadata": {},
   "outputs": [],
   "source": [
    "corr_matrix = train_copy.corr()"
   ]
  },
  {
   "cell_type": "code",
   "execution_count": 14,
   "id": "ce070751",
   "metadata": {},
   "outputs": [
    {
     "data": {
      "text/plain": [
       "Purchase              1.000000\n",
       "Occupation            0.020833\n",
       "Marital_Status       -0.000463\n",
       "Product_Category_3   -0.022006\n",
       "Product_Category_2   -0.209918\n",
       "Product_Category_1   -0.343703\n",
       "Name: Purchase, dtype: float64"
      ]
     },
     "execution_count": 14,
     "metadata": {},
     "output_type": "execute_result"
    }
   ],
   "source": [
    "corr_matrix[\"Purchase\"].sort_values(ascending=False)"
   ]
  },
  {
   "cell_type": "markdown",
   "id": "6fa98bf1",
   "metadata": {},
   "source": [
    "* All of these are categorical, so no useful information here"
   ]
  },
  {
   "cell_type": "markdown",
   "id": "07fb5ba6",
   "metadata": {},
   "source": [
    "## Experimenting with attribute combinations"
   ]
  },
  {
   "cell_type": "markdown",
   "id": "84fcefae-e99c-44ba-96e7-417fa28d98fe",
   "metadata": {},
   "source": [
    "* All categorical so nothing I can really do here"
   ]
  },
  {
   "cell_type": "markdown",
   "id": "3250f067",
   "metadata": {},
   "source": [
    "# Prepare the data for machine learning algorithms "
   ]
  },
  {
   "cell_type": "code",
   "execution_count": 15,
   "id": "1b98fce5",
   "metadata": {},
   "outputs": [],
   "source": [
    "X_train = train.drop(\"Purchase\", axis=1)  # drop labels for training set\n",
    "X_labels = train[\"Purchase\"].copy()"
   ]
  },
  {
   "cell_type": "markdown",
   "id": "649f38a2",
   "metadata": {},
   "source": [
    "## Custom transformers"
   ]
  },
  {
   "cell_type": "code",
   "execution_count": 16,
   "id": "22cb0158-3004-412d-b10d-33081bbf3d6b",
   "metadata": {},
   "outputs": [
    {
     "data": {
      "text/plain": [
       "Index(['User_ID', 'Product_ID', 'Gender', 'Age', 'Occupation', 'City_Category',\n",
       "       'Stay_In_Current_City_Years', 'Marital_Status', 'Product_Category_1',\n",
       "       'Product_Category_2', 'Product_Category_3'],\n",
       "      dtype='object')"
      ]
     },
     "execution_count": 16,
     "metadata": {},
     "output_type": "execute_result"
    }
   ],
   "source": [
    "X_train.columns"
   ]
  },
  {
   "cell_type": "code",
   "execution_count": 17,
   "id": "3fc744f2-141f-4913-8704-5ae9f1eef286",
   "metadata": {},
   "outputs": [
    {
     "name": "stdout",
     "output_type": "stream",
     "text": [
      "<class 'pandas.core.frame.DataFrame'>\n",
      "RangeIndex: 550068 entries, 0 to 550067\n",
      "Data columns (total 11 columns):\n",
      " #   Column                      Non-Null Count   Dtype  \n",
      "---  ------                      --------------   -----  \n",
      " 0   User_ID                     550068 non-null  int64  \n",
      " 1   Product_ID                  550068 non-null  object \n",
      " 2   Gender                      550068 non-null  object \n",
      " 3   Age                         550068 non-null  object \n",
      " 4   Occupation                  550068 non-null  int64  \n",
      " 5   City_Category               550068 non-null  object \n",
      " 6   Stay_In_Current_City_Years  550068 non-null  object \n",
      " 7   Marital_Status              550068 non-null  int64  \n",
      " 8   Product_Category_1          550068 non-null  int64  \n",
      " 9   Product_Category_2          376430 non-null  float64\n",
      " 10  Product_Category_3          166821 non-null  float64\n",
      "dtypes: float64(2), int64(4), object(5)\n",
      "memory usage: 46.2+ MB\n"
     ]
    }
   ],
   "source": [
    "X_train.info()"
   ]
  },
  {
   "cell_type": "code",
   "execution_count": 18,
   "id": "c7a0571a-fce1-483e-9b67-b91daefb873a",
   "metadata": {},
   "outputs": [
    {
     "name": "stdout",
     "output_type": "stream",
     "text": [
      "True\n",
      "False\n",
      "False\n",
      "False\n",
      "True\n",
      "False\n",
      "False\n",
      "True\n",
      "True\n",
      "True\n",
      "True\n"
     ]
    }
   ],
   "source": [
    "for col in X_train.columns:\n",
    "    print(X_train[col].dtype in ['int64', 'float64'])"
   ]
  },
  {
   "cell_type": "code",
   "execution_count": 19,
   "id": "fe64c9ff-cd13-47ab-a14b-d53a61938a6f",
   "metadata": {},
   "outputs": [],
   "source": [
    "def convert_num_to_cat(X: pd.DataFrame, y=None):\n",
    "    for col in X.columns:\n",
    "        if X[col].dtype in ['int64', 'float64']:\n",
    "            X[col] = X[col].apply(str)\n",
    "    return X"
   ]
  },
  {
   "cell_type": "markdown",
   "id": "c6d6fdde",
   "metadata": {},
   "source": [
    "## Transformation pipelines"
   ]
  },
  {
   "cell_type": "code",
   "execution_count": 20,
   "id": "129baac3-c368-41af-ad53-62a7feaccbed",
   "metadata": {},
   "outputs": [],
   "source": [
    "from sklearn.preprocessing import FunctionTransformer\n",
    "\n",
    "num_to_cat_estimator = FunctionTransformer(convert_num_to_cat)"
   ]
  },
  {
   "cell_type": "code",
   "execution_count": 21,
   "id": "d71e385b-7764-4a14-a319-59a6897d5e50",
   "metadata": {},
   "outputs": [],
   "source": [
    "from sklearn.pipeline import Pipeline\n",
    "from sklearn.impute import SimpleImputer\n",
    "from sklearn.preprocessing import OneHotEncoder\n",
    "\n",
    "cat_pipeline = Pipeline([\n",
    "    ('num_to_cat', num_to_cat_estimator),\n",
    "    ('cat_imputer', SimpleImputer(strategy='constant', fill_value='missing')),\n",
    "    ('one_hot', OneHotEncoder()),\n",
    "])"
   ]
  },
  {
   "cell_type": "code",
   "execution_count": 22,
   "id": "1dec3bd6-cc74-4c3d-97df-8f522a5cf02b",
   "metadata": {},
   "outputs": [],
   "source": [
    "X_train = X_train.drop(['User_ID', 'Product_ID'], axis=1)"
   ]
  },
  {
   "cell_type": "markdown",
   "id": "7640b5ea-f560-4afc-a82e-ef392127e612",
   "metadata": {},
   "source": [
    "* n.b. above step should be in pipeline, otherwise I have to drop from test set later"
   ]
  },
  {
   "cell_type": "code",
   "execution_count": 23,
   "id": "5067b954",
   "metadata": {},
   "outputs": [],
   "source": [
    "X_train_prepared = cat_pipeline.fit_transform(X_train)"
   ]
  },
  {
   "cell_type": "code",
   "execution_count": 24,
   "id": "079b744c",
   "metadata": {},
   "outputs": [
    {
     "data": {
      "text/plain": [
       "<550068x94 sparse matrix of type '<class 'numpy.float64'>'\n",
       "\twith 4950612 stored elements in Compressed Sparse Row format>"
      ]
     },
     "execution_count": 24,
     "metadata": {},
     "output_type": "execute_result"
    }
   ],
   "source": [
    "X_train_prepared"
   ]
  },
  {
   "cell_type": "code",
   "execution_count": 25,
   "id": "e23ed5e2",
   "metadata": {},
   "outputs": [
    {
     "data": {
      "text/plain": [
       "(550068, 94)"
      ]
     },
     "execution_count": 25,
     "metadata": {},
     "output_type": "execute_result"
    }
   ],
   "source": [
    "X_train_prepared.shape"
   ]
  },
  {
   "cell_type": "markdown",
   "id": "67a5115a",
   "metadata": {},
   "source": [
    "# Select and train a model "
   ]
  },
  {
   "cell_type": "markdown",
   "id": "e427cc6b",
   "metadata": {},
   "source": [
    "## Fit models"
   ]
  },
  {
   "cell_type": "code",
   "execution_count": 26,
   "id": "5e903454",
   "metadata": {},
   "outputs": [
    {
     "data": {
      "text/plain": [
       "LinearRegression()"
      ]
     },
     "execution_count": 26,
     "metadata": {},
     "output_type": "execute_result"
    }
   ],
   "source": [
    "from sklearn.linear_model import LinearRegression\n",
    "\n",
    "lin_reg = LinearRegression()\n",
    "lin_reg.fit(X_train_prepared, X_labels)"
   ]
  },
  {
   "cell_type": "code",
   "execution_count": 27,
   "id": "3f076ef7",
   "metadata": {},
   "outputs": [
    {
     "data": {
      "text/plain": [
       "RandomForestRegressor(random_state=42)"
      ]
     },
     "execution_count": 27,
     "metadata": {},
     "output_type": "execute_result"
    }
   ],
   "source": [
    "from sklearn.ensemble import RandomForestRegressor\n",
    "\n",
    "forest_reg = RandomForestRegressor(n_estimators=100, random_state=42)\n",
    "forest_reg.fit(X_train_prepared, X_labels)"
   ]
  },
  {
   "cell_type": "code",
   "execution_count": 36,
   "id": "66cb1ad5",
   "metadata": {},
   "outputs": [
    {
     "data": {
      "text/plain": [
       "XGBRegressor(base_score=0.5, booster='gbtree', callbacks=None,\n",
       "             colsample_bylevel=1, colsample_bynode=1, colsample_bytree=1,\n",
       "             early_stopping_rounds=None, enable_categorical=False,\n",
       "             eval_metric=None, feature_types=None, gamma=0, gpu_id=-1,\n",
       "             grow_policy='depthwise', importance_type=None,\n",
       "             interaction_constraints='', learning_rate=0.300000012, max_bin=256,\n",
       "             max_cat_threshold=64, max_cat_to_onehot=4, max_delta_step=0,\n",
       "             max_depth=6, max_leaves=0, min_child_weight=1, missing=nan,\n",
       "             monotone_constraints='()', n_estimators=100, n_jobs=0,\n",
       "             num_parallel_tree=1, predictor='auto', random_state=42, ...)"
      ]
     },
     "execution_count": 36,
     "metadata": {},
     "output_type": "execute_result"
    }
   ],
   "source": [
    "from xgboost import XGBRegressor\n",
    "\n",
    "xgb_reg = XGBRegressor(random_state=42)\n",
    "xgb_reg.fit(X_train_prepared, X_labels)"
   ]
  },
  {
   "cell_type": "markdown",
   "id": "d60b4a9d-aa29-4b5f-b65c-4d07f75fbedb",
   "metadata": {},
   "source": [
    "* Below cell was left to run overnight and still didn't complete\n",
    "* Unsure what it is about this algorithm, specifically, that makes it so slow\n",
    "* Plan to use Google Colab next time for GPU/TPU access"
   ]
  },
  {
   "cell_type": "code",
   "execution_count": 37,
   "id": "62627305-7199-4279-9bc4-b3ed45399b1f",
   "metadata": {},
   "outputs": [],
   "source": [
    "# from sklearn.svm import SVR\n",
    "\n",
    "# svm_reg = SVR(kernel=\"linear\")\n",
    "# svm_reg.fit(X_train_prepared, X_labels)"
   ]
  },
  {
   "cell_type": "markdown",
   "id": "f953a434",
   "metadata": {
    "tags": []
   },
   "source": [
    "## Cross-validation"
   ]
  },
  {
   "cell_type": "code",
   "execution_count": 28,
   "id": "0ccc5c02-db6b-4a63-a425-a3d2dbfe571f",
   "metadata": {},
   "outputs": [],
   "source": [
    "from sklearn.model_selection import cross_val_score\n",
    "\n",
    "lin_scores = cross_val_score(lin_reg, X_train_prepared, X_labels,\n",
    "                         scoring=\"neg_mean_squared_error\", cv=5)\n",
    "lin_rmse_scores = np.sqrt(-lin_scores)"
   ]
  },
  {
   "cell_type": "code",
   "execution_count": 29,
   "id": "220d8633-06df-4d64-aa34-583ad90de111",
   "metadata": {},
   "outputs": [],
   "source": [
    "forest_scores = cross_val_score(forest_reg, X_train_prepared, X_labels,\n",
    "                         scoring=\"neg_mean_squared_error\", cv=5)\n",
    "forest_rmse_scores = np.sqrt(-forest_scores)"
   ]
  },
  {
   "cell_type": "code",
   "execution_count": 38,
   "id": "39d17c00",
   "metadata": {},
   "outputs": [],
   "source": [
    "xgb_scores = cross_val_score(xgb_reg, X_train_prepared, X_labels,\n",
    "                         scoring=\"neg_mean_squared_error\", cv=5)\n",
    "xgb_rmse_scores = np.sqrt(-xgb_scores)"
   ]
  },
  {
   "cell_type": "code",
   "execution_count": 39,
   "id": "a7105283",
   "metadata": {},
   "outputs": [],
   "source": [
    "def display_scores(scores):\n",
    "    print(\"Scores:\", scores)\n",
    "    print(\"Mean:\", scores.mean())\n",
    "    print(\"Standard deviation:\", scores.std())"
   ]
  },
  {
   "cell_type": "code",
   "execution_count": 40,
   "id": "af9709e9",
   "metadata": {},
   "outputs": [
    {
     "name": "stdout",
     "output_type": "stream",
     "text": [
      "Scores: [2992.51484568 2985.01008314 2988.042867   2990.41900923 3531.90660903]\n",
      "Mean: 3097.5786828165265\n",
      "Standard deviation: 217.1783311403377\n"
     ]
    }
   ],
   "source": [
    "display_scores(lin_rmse_scores)"
   ]
  },
  {
   "cell_type": "code",
   "execution_count": 41,
   "id": "541e2980",
   "metadata": {},
   "outputs": [
    {
     "name": "stdout",
     "output_type": "stream",
     "text": [
      "Scores: [3045.97673911 3038.62855993 3034.62621343 3043.59413929 3031.84791307]\n",
      "Mean: 3038.934712964076\n",
      "Standard deviation: 5.294903523760843\n"
     ]
    }
   ],
   "source": [
    "display_scores(forest_rmse_scores)"
   ]
  },
  {
   "cell_type": "code",
   "execution_count": 42,
   "id": "e31bf0e7",
   "metadata": {},
   "outputs": [
    {
     "name": "stdout",
     "output_type": "stream",
     "text": [
      "Scores: [2886.35589023 2886.26118067 2888.04189056 2895.18057081 3334.92117128]\n",
      "Mean: 2978.1521407099162\n",
      "Standard deviation: 178.41456213151406\n"
     ]
    }
   ],
   "source": [
    "display_scores(xgb_rmse_scores)"
   ]
  },
  {
   "cell_type": "markdown",
   "id": "1949409d-eae0-4977-8e04-c9362e48dc43",
   "metadata": {},
   "source": [
    "* XGB has the lowest error\n",
    "* RF has really low SD, not sure why\n",
    "* Choose XGB"
   ]
  },
  {
   "cell_type": "markdown",
   "id": "acbf9412",
   "metadata": {},
   "source": [
    "# Fine-tune your model"
   ]
  },
  {
   "cell_type": "markdown",
   "id": "c2925cde",
   "metadata": {},
   "source": [
    "## Randomized search"
   ]
  },
  {
   "cell_type": "code",
   "execution_count": 63,
   "id": "820e918d",
   "metadata": {},
   "outputs": [
    {
     "data": {
      "text/plain": [
       "RandomizedSearchCV(cv=5,\n",
       "                   estimator=XGBRegressor(base_score=None, booster=None,\n",
       "                                          callbacks=None,\n",
       "                                          colsample_bylevel=None,\n",
       "                                          colsample_bynode=None,\n",
       "                                          colsample_bytree=None,\n",
       "                                          early_stopping_rounds=None,\n",
       "                                          enable_categorical=False,\n",
       "                                          eval_metric=None, feature_types=None,\n",
       "                                          gamma=None, gpu_id=None,\n",
       "                                          grow_policy=None,\n",
       "                                          importance_type=None,\n",
       "                                          interaction_constraints=None,\n",
       "                                          learning_rate=...\n",
       "                   param_distributions={'colsample_bytree': array([0.4, 0.5, 0.6, 0.7, 0.8, 0.9]),\n",
       "                                        'learning_rate': [0.01, 0.1, 0.2, 0.3],\n",
       "                                        'max_depth': <scipy.stats._distn_infrastructure.rv_discrete_frozen object at 0x000001C6370B0070>,\n",
       "                                        'n_estimators': <scipy.stats._distn_infrastructure.rv_discrete_frozen object at 0x000001C6370B01F0>,\n",
       "                                        'subsample': array([0.5, 0.6, 0.7, 0.8, 0.9])},\n",
       "                   random_state=42, scoring='neg_mean_squared_error')"
      ]
     },
     "execution_count": 63,
     "metadata": {},
     "output_type": "execute_result"
    }
   ],
   "source": [
    "from sklearn.model_selection import RandomizedSearchCV\n",
    "from scipy.stats import randint\n",
    "from random import random\n",
    "\n",
    "param_distribs = {\n",
    "        'max_depth': randint(low=3, high=20),\n",
    "        'n_estimators': randint(low=100, high=1000),\n",
    "        'learning_rate': [0.01, 0.1, 0.2, 0.3],  # not int so can't use randint\n",
    "        'colsample_bytree': np.arange(0.4, 1.0, 0.1),\n",
    "        'subsample': np.arange(0.5, 1.0, 0.1),\n",
    "    }\n",
    "\n",
    "xgb_reg = XGBRegressor(random_state=42)\n",
    "rnd_search = RandomizedSearchCV(xgb_reg, param_distributions=param_distribs,\n",
    "                                n_iter=10, cv=5, scoring='neg_mean_squared_error', random_state=42)\n",
    "rnd_search.fit(X_train_prepared, X_labels)"
   ]
  },
  {
   "cell_type": "code",
   "execution_count": 64,
   "id": "37d29987",
   "metadata": {},
   "outputs": [
    {
     "name": "stdout",
     "output_type": "stream",
     "text": [
      "3280.1889269529433 {'colsample_bytree': 0.7, 'learning_rate': 0.01, 'max_depth': 17, 'n_estimators': 206, 'subsample': 0.8999999999999999}\n",
      "3217.978905039001 {'colsample_bytree': 0.7999999999999999, 'learning_rate': 0.2, 'max_depth': 13, 'n_estimators': 558, 'subsample': 0.8999999999999999}\n",
      "2968.6431502223413 {'colsample_bytree': 0.7, 'learning_rate': 0.3, 'max_depth': 5, 'n_estimators': 761, 'subsample': 0.8999999999999999}\n",
      "3204.564931737294 {'colsample_bytree': 0.5, 'learning_rate': 0.3, 'max_depth': 14, 'n_estimators': 513, 'subsample': 0.6}\n",
      "3214.061168833846 {'colsample_bytree': 0.7, 'learning_rate': 0.01, 'max_depth': 3, 'n_estimators': 559, 'subsample': 0.6}\n",
      "2955.1408048078406 {'colsample_bytree': 0.8999999999999999, 'learning_rate': 0.01, 'max_depth': 14, 'n_estimators': 956, 'subsample': 0.5}\n",
      "3093.725311381496 {'colsample_bytree': 0.6, 'learning_rate': 0.2, 'max_depth': 12, 'n_estimators': 575, 'subsample': 0.7999999999999999}\n",
      "3243.9187012106086 {'colsample_bytree': 0.8999999999999999, 'learning_rate': 0.1, 'max_depth': 17, 'n_estimators': 662, 'subsample': 0.7999999999999999}\n",
      "2975.6095026816874 {'colsample_bytree': 0.7, 'learning_rate': 0.3, 'max_depth': 5, 'n_estimators': 584, 'subsample': 0.7}\n",
      "3040.07788938108 {'colsample_bytree': 0.7999999999999999, 'learning_rate': 0.01, 'max_depth': 9, 'n_estimators': 373, 'subsample': 0.7999999999999999}\n"
     ]
    }
   ],
   "source": [
    "cvres = rnd_search.cv_results_\n",
    "for mean_score, params in zip(cvres[\"mean_test_score\"], cvres[\"params\"]):\n",
    "    print(np.sqrt(-mean_score), params)"
   ]
  },
  {
   "cell_type": "markdown",
   "id": "8c2c6466-500a-4210-a2b8-6503194568ef",
   "metadata": {},
   "source": [
    "* Best performance with high `colsample_bytree`: .90, low `learning_rate`: .01, middle `max_depth`: 14, middle `n_estimators`: 559, and middle `subsample`: .6\n",
    "* Not much opportunity to furthe roptimize because `colsample_bytree` at max end of range and already a low `learning_rate`\n",
    "* Can expect RMSE of 2955 on test set"
   ]
  },
  {
   "cell_type": "markdown",
   "id": "e743d1ab",
   "metadata": {},
   "source": [
    "## Analyze the best models and their errors"
   ]
  },
  {
   "cell_type": "code",
   "execution_count": 85,
   "id": "d93db42e",
   "metadata": {},
   "outputs": [
    {
     "data": {
      "text/plain": [
       "array([0.00040189, 0.00040724, 0.00052791, 0.00047656, 0.00043729,\n",
       "       0.00048485, 0.00046942, 0.00050746, 0.00052412, 0.00054156,\n",
       "       0.00055265, 0.00066792, 0.0005733 , 0.00052646, 0.00049068,\n",
       "       0.00059811, 0.00057333, 0.00055608, 0.00055048, 0.00058364,\n",
       "       0.00064691, 0.00059755, 0.00060731, 0.00057599, 0.00063154,\n",
       "       0.00060838, 0.00059964, 0.00056556, 0.00055106, 0.00056655,\n",
       "       0.00045115, 0.0004337 , 0.00086612, 0.00046797, 0.000469  ,\n",
       "       0.00049503, 0.00052975, 0.00050661, 0.00046491, 0.00048562,\n",
       "       0.07428177, 0.09967589, 0.02641867, 0.04273362, 0.0425796 ,\n",
       "       0.02186844, 0.04434049, 0.09016795, 0.01963813, 0.0557156 ,\n",
       "       0.05906865, 0.01601104, 0.07139137, 0.02141861, 0.02330493,\n",
       "       0.01839611, 0.10472254, 0.07121001, 0.02129501, 0.01341508,\n",
       "       0.00192512, 0.00070621, 0.00040182, 0.00067947, 0.00050935,\n",
       "       0.00082922, 0.00075103, 0.00173573, 0.00118035, 0.00063621,\n",
       "       0.00052835, 0.00607975, 0.00157815, 0.00080898, 0.00051175,\n",
       "       0.00329795, 0.00056341, 0.00135581, 0.0004656 , 0.00072569,\n",
       "       0.00055262, 0.00060669, 0.00058519, 0.00071377, 0.00062399,\n",
       "       0.00143722, 0.00151353, 0.00071495, 0.00302587, 0.00066369,\n",
       "       0.00085528, 0.00225427, 0.00107243, 0.00088573], dtype=float32)"
      ]
     },
     "execution_count": 85,
     "metadata": {},
     "output_type": "execute_result"
    }
   ],
   "source": [
    "feature_importances = rnd_search.best_estimator_.feature_importances_\n",
    "feature_importances"
   ]
  },
  {
   "cell_type": "code",
   "execution_count": 94,
   "id": "0b7c52b4",
   "metadata": {},
   "outputs": [
    {
     "data": {
      "text/plain": [
       "[(0.10472254, 'x6_6'),\n",
       " (0.099675894, 'x6_10'),\n",
       " (0.090167955, 'x6_16'),\n",
       " (0.074281774, 'x6_1'),\n",
       " (0.07139137, 'x6_20'),\n",
       " (0.07121001, 'x6_7'),\n",
       " (0.05906865, 'x6_19'),\n",
       " (0.055715602, 'x6_18'),\n",
       " (0.044340488, 'x6_15'),\n",
       " (0.04273362, 'x6_12'),\n",
       " (0.042579602, 'x6_13'),\n",
       " (0.026418665, 'x6_11'),\n",
       " (0.023304926, 'x6_4'),\n",
       " (0.021868441, 'x6_14'),\n",
       " (0.021418612, 'x6_3'),\n",
       " (0.02129501, 'x6_8'),\n",
       " (0.01963813, 'x6_17'),\n",
       " (0.018396107, 'x6_5'),\n",
       " (0.016011035, 'x6_2'),\n",
       " (0.013415084, 'x6_9'),\n",
       " (0.006079753, 'x7_4.0'),\n",
       " (0.0032979508, 'x7_8.0'),\n",
       " (0.003025874, 'x8_4.0'),\n",
       " (0.0022542707, 'x8_8.0'),\n",
       " (0.001925116, 'x7_10.0'),\n",
       " (0.0017357277, 'x7_17.0'),\n",
       " (0.0015781486, 'x7_5.0'),\n",
       " (0.0015135347, 'x8_18.0'),\n",
       " (0.0014372242, 'x8_17.0'),\n",
       " (0.0013558147, 'x7_nan'),\n",
       " (0.0011803486, 'x7_18.0'),\n",
       " (0.001072433, 'x8_9.0'),\n",
       " (0.00088572607, 'x8_nan'),\n",
       " (0.0008661175, 'x3_C'),\n",
       " (0.0008552752, 'x8_6.0'),\n",
       " (0.0008292221, 'x7_15.0'),\n",
       " (0.0008089797, 'x7_6.0'),\n",
       " (0.0007510271, 'x7_16.0'),\n",
       " (0.0007256893, 'x8_11.0'),\n",
       " (0.00071494567, 'x8_3.0'),\n",
       " (0.0007137715, 'x8_15.0'),\n",
       " (0.00070621044, 'x7_11.0'),\n",
       " (0.0006794712, 'x7_13.0'),\n",
       " (0.00066791725, 'x2_10'),\n",
       " (0.00066368975, 'x8_5.0'),\n",
       " (0.0006469147, 'x2_19'),\n",
       " (0.00063621043, 'x7_2.0'),\n",
       " (0.00063154293, 'x2_4'),\n",
       " (0.00062398775, 'x8_16.0'),\n",
       " (0.0006083793, 'x2_5'),\n",
       " (0.00060730707, 'x2_20'),\n",
       " (0.0006066884, 'x8_13.0'),\n",
       " (0.0005996428, 'x2_6'),\n",
       " (0.0005981112, 'x2_14'),\n",
       " (0.0005975539, 'x2_2'),\n",
       " (0.0005851948, 'x8_14.0'),\n",
       " (0.00058364496, 'x2_18'),\n",
       " (0.00057599234, 'x2_3'),\n",
       " (0.0005733272, 'x2_15'),\n",
       " (0.0005732959, 'x2_11'),\n",
       " (0.00056654814, 'x2_9'),\n",
       " (0.0005655551, 'x2_7'),\n",
       " (0.00056340825, 'x7_9.0'),\n",
       " (0.00055608305, 'x2_16'),\n",
       " (0.0005526536, 'x2_1'),\n",
       " (0.00055262225, 'x8_12.0'),\n",
       " (0.00055106456, 'x2_8'),\n",
       " (0.0005504784, 'x2_17'),\n",
       " (0.0005415645, 'x2_0'),\n",
       " (0.00052975415, 'x4_3'),\n",
       " (0.0005283452, 'x7_3.0'),\n",
       " (0.00052790786, 'x1_0-17'),\n",
       " (0.0005264591, 'x2_12'),\n",
       " (0.0005241174, 'x1_55+'),\n",
       " (0.00051174883, 'x7_7.0'),\n",
       " (0.00050934736, 'x7_14.0'),\n",
       " (0.00050746225, 'x1_51-55'),\n",
       " (0.0005066125, 'x4_4+'),\n",
       " (0.0004950304, 'x4_2'),\n",
       " (0.00049068197, 'x2_13'),\n",
       " (0.00048562366, 'x5_1'),\n",
       " (0.0004848469, 'x1_36-45'),\n",
       " (0.00047656233, 'x1_18-25'),\n",
       " (0.00046941845, 'x1_46-50'),\n",
       " (0.00046899912, 'x4_1'),\n",
       " (0.00046796587, 'x4_0'),\n",
       " (0.00046560357, 'x8_10.0'),\n",
       " (0.0004649147, 'x5_0'),\n",
       " (0.00045114727, 'x3_A'),\n",
       " (0.00043728648, 'x1_26-35'),\n",
       " (0.0004337024, 'x3_B'),\n",
       " (0.00040724006, 'x0_M'),\n",
       " (0.00040188737, 'x0_F'),\n",
       " (0.00040182276, 'x7_12.0')]"
      ]
     },
     "execution_count": 94,
     "metadata": {},
     "output_type": "execute_result"
    }
   ],
   "source": [
    "cat_encoder = cat_pipeline[2]\n",
    "cat_one_hot_attribs = list(cat_encoder.get_feature_names())\n",
    "sorted(zip(feature_importances, cat_one_hot_attribs), reverse=True)"
   ]
  },
  {
   "cell_type": "markdown",
   "id": "0ced39a9-36e4-4ba5-bc83-75f65015b3fb",
   "metadata": {},
   "source": [
    "* n.b. don't seem to be doing this right because I don't recognize any of these feature names"
   ]
  },
  {
   "cell_type": "markdown",
   "id": "f1e9ddae-1588-418e-9895-7c1f8013b6ec",
   "metadata": {},
   "source": [
    "# Evaluate system on test set"
   ]
  },
  {
   "cell_type": "markdown",
   "id": "0d497fc2-3e3d-4805-a616-3f852221c633",
   "metadata": {},
   "source": [
    "## Generate predictions"
   ]
  },
  {
   "cell_type": "code",
   "execution_count": 111,
   "id": "67314ae8-ede8-4917-a07d-a687cdeecb89",
   "metadata": {},
   "outputs": [],
   "source": [
    "final_model = rnd_search.best_estimator_\n",
    "\n",
    "X_test = load_data(DATASETS_PATH, 'test.csv')\n",
    "X_test_copy = X_test.drop(['User_ID', 'Product_ID'], axis=1)\n",
    "X_test_prepared = cat_pipeline.transform(X_test_copy)\n",
    "final_predictions = final_model.predict(X_test_prepared)"
   ]
  },
  {
   "cell_type": "markdown",
   "id": "63619062-ce73-4ce7-bbb2-d5a5a6777d58",
   "metadata": {},
   "source": [
    " ## Create prediction file"
   ]
  },
  {
   "cell_type": "code",
   "execution_count": 113,
   "id": "1a419840-1d5f-40fd-becd-20896469633b",
   "metadata": {},
   "outputs": [],
   "source": [
    "user_id = X_test['User_ID']\n",
    "product_id = X_test['Product_ID']\n",
    "\n",
    "submission_df_1 = pd.DataFrame({\n",
    "    \"Purchase\": final_predictions,\n",
    "    \"User_ID\": user_id,\n",
    "    \"Product_ID\": product_id\n",
    "})"
   ]
  },
  {
   "cell_type": "code",
   "execution_count": 117,
   "id": "55d46895-d1d7-461f-97ee-bb8e9665d62e",
   "metadata": {},
   "outputs": [],
   "source": [
    "SUBMISSIONS_PATH = os.path.join('submissions', 'black_friday_sales_prediction')\n",
    "create_dir(SUBMISSIONS_PATH)"
   ]
  },
  {
   "cell_type": "code",
   "execution_count": 118,
   "id": "e9ba4f4d-bf42-499b-b8d1-ef6258e5d469",
   "metadata": {},
   "outputs": [],
   "source": [
    "def save_submission(model, path, file_name, index=False):\n",
    "    csv_path = os.path.join(path, file_name)\n",
    "    return model.to_csv(csv_path, index=index)"
   ]
  },
  {
   "cell_type": "code",
   "execution_count": 119,
   "id": "49c438b4-e5a7-4fc0-8f43-a031c0d34a30",
   "metadata": {},
   "outputs": [],
   "source": [
    "save_submission(submission_df_1, SUBMISSIONS_PATH, 'submission_1.csv')"
   ]
  },
  {
   "cell_type": "markdown",
   "id": "24aface4-85a1-44cc-b87e-5d9ef61a8996",
   "metadata": {},
   "source": [
    "## Save model"
   ]
  },
  {
   "cell_type": "code",
   "execution_count": 123,
   "id": "ac3c2c93-e1f7-43f6-a603-55070a044285",
   "metadata": {},
   "outputs": [],
   "source": [
    "MODELS_PATH = os.path.join('models', 'black_friday_sales_prediction')\n",
    "create_dir(MODELS_PATH)"
   ]
  },
  {
   "cell_type": "code",
   "execution_count": 124,
   "id": "a1851ac1-1bbb-4a81-a5d2-1339b9becef5",
   "metadata": {},
   "outputs": [],
   "source": [
    "def save_model(path, model_name, model):\n",
    "    model_path = os.path.join(path, model_name)\n",
    "    joblib.dump(model, model_path)"
   ]
  },
  {
   "cell_type": "code",
   "execution_count": 125,
   "id": "be0472f3-b712-4b2b-be81-b00f5b1c761e",
   "metadata": {},
   "outputs": [],
   "source": [
    "import joblib\n",
    "\n",
    "save_model(MODELS_PATH, 'final_model.pkl', final_model)"
   ]
  }
 ],
 "metadata": {
  "kernelspec": {
   "display_name": "Python 3 (ipykernel)",
   "language": "python",
   "name": "python3"
  },
  "language_info": {
   "codemirror_mode": {
    "name": "ipython",
    "version": 3
   },
   "file_extension": ".py",
   "mimetype": "text/x-python",
   "name": "python",
   "nbconvert_exporter": "python",
   "pygments_lexer": "ipython3",
   "version": "3.9.13"
  }
 },
 "nbformat": 4,
 "nbformat_minor": 5
}
